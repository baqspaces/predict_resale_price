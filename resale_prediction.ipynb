{
 "cells": [
  {
   "cell_type": "code",
   "execution_count": 1,
   "metadata": {},
   "outputs": [],
   "source": [
    "import pandas as pd \n",
    "import numpy as np\n",
    "from datetime import datetime as dt\n",
    "import csv"
   ]
  },
  {
   "cell_type": "markdown",
   "metadata": {},
   "source": [
    "### 1. Data Preparation"
   ]
  },
  {
   "cell_type": "code",
   "execution_count": 2,
   "metadata": {},
   "outputs": [],
   "source": [
    "df_1990_1999 = pd.read_csv('data/resale-flat-prices-based-on-approval-date-1990-1999.csv')\n",
    "df_2000_2012 = pd.read_csv('data/resale-flat-prices-based-on-approval-date-2000-feb-2012.csv')\n",
    "df_2012_2014 = pd.read_csv('data/resale-flat-prices-based-on-registration-date-from-mar-2012-to-dec-2014.csv')\n",
    "df_2015_2016 = pd.read_csv('data/resale-flat-prices-based-on-registration-date-from-jan-2015-to-dec-2016.csv')\n",
    "df_2017_onwards = pd.read_csv('data/resale-flat-prices-based-on-registration-date-from-jan-2017-onwards.csv')"
   ]
  },
  {
   "cell_type": "code",
   "execution_count": 3,
   "metadata": {},
   "outputs": [
    {
     "name": "stdout",
     "output_type": "stream",
     "text": [
      "<class 'pandas.core.frame.DataFrame'>\n",
      "RangeIndex: 287200 entries, 0 to 287199\n",
      "Data columns (total 10 columns):\n",
      " #   Column               Non-Null Count   Dtype  \n",
      "---  ------               --------------   -----  \n",
      " 0   month                287200 non-null  object \n",
      " 1   town                 287200 non-null  object \n",
      " 2   flat_type            287200 non-null  object \n",
      " 3   block                287200 non-null  object \n",
      " 4   street_name          287200 non-null  object \n",
      " 5   storey_range         287200 non-null  object \n",
      " 6   floor_area_sqm       287200 non-null  float64\n",
      " 7   flat_model           287200 non-null  object \n",
      " 8   lease_commence_date  287200 non-null  int64  \n",
      " 9   resale_price         287200 non-null  int64  \n",
      "dtypes: float64(1), int64(2), object(7)\n",
      "memory usage: 21.9+ MB\n"
     ]
    }
   ],
   "source": [
    "df_1990_1999.info()"
   ]
  },
  {
   "cell_type": "code",
   "execution_count": 4,
   "metadata": {},
   "outputs": [
    {
     "data": {
      "application/vnd.microsoft.datawrangler.viewer.v0+json": {
       "columns": [
        {
         "name": "index",
         "rawType": "int64",
         "type": "integer"
        },
        {
         "name": "month",
         "rawType": "object",
         "type": "string"
        },
        {
         "name": "town",
         "rawType": "object",
         "type": "string"
        },
        {
         "name": "flat_type",
         "rawType": "object",
         "type": "string"
        },
        {
         "name": "block",
         "rawType": "object",
         "type": "string"
        },
        {
         "name": "street_name",
         "rawType": "object",
         "type": "string"
        },
        {
         "name": "storey_range",
         "rawType": "object",
         "type": "string"
        },
        {
         "name": "floor_area_sqm",
         "rawType": "float64",
         "type": "float"
        },
        {
         "name": "flat_model",
         "rawType": "object",
         "type": "string"
        },
        {
         "name": "lease_commence_date",
         "rawType": "int64",
         "type": "integer"
        },
        {
         "name": "resale_price",
         "rawType": "float64",
         "type": "float"
        }
       ],
       "conversionMethod": "pd.DataFrame",
       "ref": "6aeb4c21-4275-4b33-82c5-14d488b448e2",
       "rows": [
        [
         "0",
         "2015-01",
         "ANG MO KIO",
         "3 ROOM",
         "174",
         "ANG MO KIO AVE 4",
         "07 TO 09",
         "60.0",
         "Improved",
         "1986",
         "255000.0"
        ],
        [
         "1",
         "2015-01",
         "ANG MO KIO",
         "3 ROOM",
         "541",
         "ANG MO KIO AVE 10",
         "01 TO 03",
         "68.0",
         "New Generation",
         "1981",
         "275000.0"
        ],
        [
         "2",
         "2015-01",
         "ANG MO KIO",
         "3 ROOM",
         "163",
         "ANG MO KIO AVE 4",
         "01 TO 03",
         "69.0",
         "New Generation",
         "1980",
         "285000.0"
        ],
        [
         "3",
         "2015-01",
         "ANG MO KIO",
         "3 ROOM",
         "446",
         "ANG MO KIO AVE 10",
         "01 TO 03",
         "68.0",
         "New Generation",
         "1979",
         "290000.0"
        ],
        [
         "4",
         "2015-01",
         "ANG MO KIO",
         "3 ROOM",
         "557",
         "ANG MO KIO AVE 10",
         "07 TO 09",
         "68.0",
         "New Generation",
         "1980",
         "290000.0"
        ]
       ],
       "shape": {
        "columns": 10,
        "rows": 5
       }
      },
      "text/html": [
       "<div>\n",
       "<style scoped>\n",
       "    .dataframe tbody tr th:only-of-type {\n",
       "        vertical-align: middle;\n",
       "    }\n",
       "\n",
       "    .dataframe tbody tr th {\n",
       "        vertical-align: top;\n",
       "    }\n",
       "\n",
       "    .dataframe thead th {\n",
       "        text-align: right;\n",
       "    }\n",
       "</style>\n",
       "<table border=\"1\" class=\"dataframe\">\n",
       "  <thead>\n",
       "    <tr style=\"text-align: right;\">\n",
       "      <th></th>\n",
       "      <th>month</th>\n",
       "      <th>town</th>\n",
       "      <th>flat_type</th>\n",
       "      <th>block</th>\n",
       "      <th>street_name</th>\n",
       "      <th>storey_range</th>\n",
       "      <th>floor_area_sqm</th>\n",
       "      <th>flat_model</th>\n",
       "      <th>lease_commence_date</th>\n",
       "      <th>resale_price</th>\n",
       "    </tr>\n",
       "  </thead>\n",
       "  <tbody>\n",
       "    <tr>\n",
       "      <th>0</th>\n",
       "      <td>2015-01</td>\n",
       "      <td>ANG MO KIO</td>\n",
       "      <td>3 ROOM</td>\n",
       "      <td>174</td>\n",
       "      <td>ANG MO KIO AVE 4</td>\n",
       "      <td>07 TO 09</td>\n",
       "      <td>60.0</td>\n",
       "      <td>Improved</td>\n",
       "      <td>1986</td>\n",
       "      <td>255000.0</td>\n",
       "    </tr>\n",
       "    <tr>\n",
       "      <th>1</th>\n",
       "      <td>2015-01</td>\n",
       "      <td>ANG MO KIO</td>\n",
       "      <td>3 ROOM</td>\n",
       "      <td>541</td>\n",
       "      <td>ANG MO KIO AVE 10</td>\n",
       "      <td>01 TO 03</td>\n",
       "      <td>68.0</td>\n",
       "      <td>New Generation</td>\n",
       "      <td>1981</td>\n",
       "      <td>275000.0</td>\n",
       "    </tr>\n",
       "    <tr>\n",
       "      <th>2</th>\n",
       "      <td>2015-01</td>\n",
       "      <td>ANG MO KIO</td>\n",
       "      <td>3 ROOM</td>\n",
       "      <td>163</td>\n",
       "      <td>ANG MO KIO AVE 4</td>\n",
       "      <td>01 TO 03</td>\n",
       "      <td>69.0</td>\n",
       "      <td>New Generation</td>\n",
       "      <td>1980</td>\n",
       "      <td>285000.0</td>\n",
       "    </tr>\n",
       "    <tr>\n",
       "      <th>3</th>\n",
       "      <td>2015-01</td>\n",
       "      <td>ANG MO KIO</td>\n",
       "      <td>3 ROOM</td>\n",
       "      <td>446</td>\n",
       "      <td>ANG MO KIO AVE 10</td>\n",
       "      <td>01 TO 03</td>\n",
       "      <td>68.0</td>\n",
       "      <td>New Generation</td>\n",
       "      <td>1979</td>\n",
       "      <td>290000.0</td>\n",
       "    </tr>\n",
       "    <tr>\n",
       "      <th>4</th>\n",
       "      <td>2015-01</td>\n",
       "      <td>ANG MO KIO</td>\n",
       "      <td>3 ROOM</td>\n",
       "      <td>557</td>\n",
       "      <td>ANG MO KIO AVE 10</td>\n",
       "      <td>07 TO 09</td>\n",
       "      <td>68.0</td>\n",
       "      <td>New Generation</td>\n",
       "      <td>1980</td>\n",
       "      <td>290000.0</td>\n",
       "    </tr>\n",
       "  </tbody>\n",
       "</table>\n",
       "</div>"
      ],
      "text/plain": [
       "     month        town flat_type block        street_name storey_range  \\\n",
       "0  2015-01  ANG MO KIO    3 ROOM   174   ANG MO KIO AVE 4     07 TO 09   \n",
       "1  2015-01  ANG MO KIO    3 ROOM   541  ANG MO KIO AVE 10     01 TO 03   \n",
       "2  2015-01  ANG MO KIO    3 ROOM   163   ANG MO KIO AVE 4     01 TO 03   \n",
       "3  2015-01  ANG MO KIO    3 ROOM   446  ANG MO KIO AVE 10     01 TO 03   \n",
       "4  2015-01  ANG MO KIO    3 ROOM   557  ANG MO KIO AVE 10     07 TO 09   \n",
       "\n",
       "   floor_area_sqm      flat_model  lease_commence_date  resale_price  \n",
       "0            60.0        Improved                 1986      255000.0  \n",
       "1            68.0  New Generation                 1981      275000.0  \n",
       "2            69.0  New Generation                 1980      285000.0  \n",
       "3            68.0  New Generation                 1979      290000.0  \n",
       "4            68.0  New Generation                 1980      290000.0  "
      ]
     },
     "execution_count": 4,
     "metadata": {},
     "output_type": "execute_result"
    }
   ],
   "source": [
    "# to remove remaining lease column to standardise table names across all tables\n",
    "df_2015_2016 = df_2015_2016.drop('remaining_lease', axis=1)\n",
    "df_2017_onwards = df_2017_onwards.drop('remaining_lease', axis=1)\n",
    "df_2015_2016.head()\n",
    "# df_2017_onwards.head()"
   ]
  },
  {
   "cell_type": "code",
   "execution_count": 5,
   "metadata": {},
   "outputs": [
    {
     "data": {
      "application/vnd.microsoft.datawrangler.viewer.v0+json": {
       "columns": [
        {
         "name": "index",
         "rawType": "int64",
         "type": "integer"
        },
        {
         "name": "month",
         "rawType": "object",
         "type": "string"
        },
        {
         "name": "town",
         "rawType": "object",
         "type": "string"
        },
        {
         "name": "flat_type",
         "rawType": "object",
         "type": "string"
        },
        {
         "name": "block",
         "rawType": "object",
         "type": "string"
        },
        {
         "name": "street_name",
         "rawType": "object",
         "type": "string"
        },
        {
         "name": "storey_range",
         "rawType": "object",
         "type": "string"
        },
        {
         "name": "floor_area_sqm",
         "rawType": "float64",
         "type": "float"
        },
        {
         "name": "flat_model",
         "rawType": "object",
         "type": "string"
        },
        {
         "name": "lease_commence_date",
         "rawType": "int64",
         "type": "integer"
        },
        {
         "name": "resale_price",
         "rawType": "float64",
         "type": "float"
        }
       ],
       "conversionMethod": "pd.DataFrame",
       "ref": "78cf79e3-11a1-483d-a8fa-6026822f0d58",
       "rows": [
        [
         "0",
         "1990-01",
         "ANG MO KIO",
         "1 ROOM",
         "309",
         "ANG MO KIO AVE 1",
         "10 TO 12",
         "31.0",
         "IMPROVED",
         "1977",
         "9000.0"
        ],
        [
         "1",
         "1990-01",
         "ANG MO KIO",
         "1 ROOM",
         "309",
         "ANG MO KIO AVE 1",
         "04 TO 06",
         "31.0",
         "IMPROVED",
         "1977",
         "6000.0"
        ],
        [
         "2",
         "1990-01",
         "ANG MO KIO",
         "1 ROOM",
         "309",
         "ANG MO KIO AVE 1",
         "10 TO 12",
         "31.0",
         "IMPROVED",
         "1977",
         "8000.0"
        ],
        [
         "3",
         "1990-01",
         "ANG MO KIO",
         "1 ROOM",
         "309",
         "ANG MO KIO AVE 1",
         "07 TO 09",
         "31.0",
         "IMPROVED",
         "1977",
         "6000.0"
        ],
        [
         "4",
         "1990-01",
         "ANG MO KIO",
         "3 ROOM",
         "216",
         "ANG MO KIO AVE 1",
         "04 TO 06",
         "73.0",
         "NEW GENERATION",
         "1976",
         "47200.0"
        ]
       ],
       "shape": {
        "columns": 10,
        "rows": 5
       }
      },
      "text/html": [
       "<div>\n",
       "<style scoped>\n",
       "    .dataframe tbody tr th:only-of-type {\n",
       "        vertical-align: middle;\n",
       "    }\n",
       "\n",
       "    .dataframe tbody tr th {\n",
       "        vertical-align: top;\n",
       "    }\n",
       "\n",
       "    .dataframe thead th {\n",
       "        text-align: right;\n",
       "    }\n",
       "</style>\n",
       "<table border=\"1\" class=\"dataframe\">\n",
       "  <thead>\n",
       "    <tr style=\"text-align: right;\">\n",
       "      <th></th>\n",
       "      <th>month</th>\n",
       "      <th>town</th>\n",
       "      <th>flat_type</th>\n",
       "      <th>block</th>\n",
       "      <th>street_name</th>\n",
       "      <th>storey_range</th>\n",
       "      <th>floor_area_sqm</th>\n",
       "      <th>flat_model</th>\n",
       "      <th>lease_commence_date</th>\n",
       "      <th>resale_price</th>\n",
       "    </tr>\n",
       "  </thead>\n",
       "  <tbody>\n",
       "    <tr>\n",
       "      <th>0</th>\n",
       "      <td>1990-01</td>\n",
       "      <td>ANG MO KIO</td>\n",
       "      <td>1 ROOM</td>\n",
       "      <td>309</td>\n",
       "      <td>ANG MO KIO AVE 1</td>\n",
       "      <td>10 TO 12</td>\n",
       "      <td>31.0</td>\n",
       "      <td>IMPROVED</td>\n",
       "      <td>1977</td>\n",
       "      <td>9000.0</td>\n",
       "    </tr>\n",
       "    <tr>\n",
       "      <th>1</th>\n",
       "      <td>1990-01</td>\n",
       "      <td>ANG MO KIO</td>\n",
       "      <td>1 ROOM</td>\n",
       "      <td>309</td>\n",
       "      <td>ANG MO KIO AVE 1</td>\n",
       "      <td>04 TO 06</td>\n",
       "      <td>31.0</td>\n",
       "      <td>IMPROVED</td>\n",
       "      <td>1977</td>\n",
       "      <td>6000.0</td>\n",
       "    </tr>\n",
       "    <tr>\n",
       "      <th>2</th>\n",
       "      <td>1990-01</td>\n",
       "      <td>ANG MO KIO</td>\n",
       "      <td>1 ROOM</td>\n",
       "      <td>309</td>\n",
       "      <td>ANG MO KIO AVE 1</td>\n",
       "      <td>10 TO 12</td>\n",
       "      <td>31.0</td>\n",
       "      <td>IMPROVED</td>\n",
       "      <td>1977</td>\n",
       "      <td>8000.0</td>\n",
       "    </tr>\n",
       "    <tr>\n",
       "      <th>3</th>\n",
       "      <td>1990-01</td>\n",
       "      <td>ANG MO KIO</td>\n",
       "      <td>1 ROOM</td>\n",
       "      <td>309</td>\n",
       "      <td>ANG MO KIO AVE 1</td>\n",
       "      <td>07 TO 09</td>\n",
       "      <td>31.0</td>\n",
       "      <td>IMPROVED</td>\n",
       "      <td>1977</td>\n",
       "      <td>6000.0</td>\n",
       "    </tr>\n",
       "    <tr>\n",
       "      <th>4</th>\n",
       "      <td>1990-01</td>\n",
       "      <td>ANG MO KIO</td>\n",
       "      <td>3 ROOM</td>\n",
       "      <td>216</td>\n",
       "      <td>ANG MO KIO AVE 1</td>\n",
       "      <td>04 TO 06</td>\n",
       "      <td>73.0</td>\n",
       "      <td>NEW GENERATION</td>\n",
       "      <td>1976</td>\n",
       "      <td>47200.0</td>\n",
       "    </tr>\n",
       "  </tbody>\n",
       "</table>\n",
       "</div>"
      ],
      "text/plain": [
       "     month        town flat_type block       street_name storey_range  \\\n",
       "0  1990-01  ANG MO KIO    1 ROOM   309  ANG MO KIO AVE 1     10 TO 12   \n",
       "1  1990-01  ANG MO KIO    1 ROOM   309  ANG MO KIO AVE 1     04 TO 06   \n",
       "2  1990-01  ANG MO KIO    1 ROOM   309  ANG MO KIO AVE 1     10 TO 12   \n",
       "3  1990-01  ANG MO KIO    1 ROOM   309  ANG MO KIO AVE 1     07 TO 09   \n",
       "4  1990-01  ANG MO KIO    3 ROOM   216  ANG MO KIO AVE 1     04 TO 06   \n",
       "\n",
       "   floor_area_sqm      flat_model  lease_commence_date  resale_price  \n",
       "0            31.0        IMPROVED                 1977        9000.0  \n",
       "1            31.0        IMPROVED                 1977        6000.0  \n",
       "2            31.0        IMPROVED                 1977        8000.0  \n",
       "3            31.0        IMPROVED                 1977        6000.0  \n",
       "4            73.0  NEW GENERATION                 1976       47200.0  "
      ]
     },
     "execution_count": 5,
     "metadata": {},
     "output_type": "execute_result"
    }
   ],
   "source": [
    "# merge all the datasets together\n",
    "merged_df = pd.concat([df_1990_1999, df_2000_2012, df_2012_2014, df_2015_2016, df_2017_onwards], axis=0, ignore_index=True)\n",
    "merged_df.head()\n"
   ]
  },
  {
   "cell_type": "markdown",
   "metadata": {},
   "source": [
    "### 2. Data Cleaning"
   ]
  },
  {
   "cell_type": "markdown",
   "metadata": {},
   "source": [
    "Checking for null and empty values in each of the columns"
   ]
  },
  {
   "cell_type": "code",
   "execution_count": 6,
   "metadata": {},
   "outputs": [
    {
     "name": "stdout",
     "output_type": "stream",
     "text": [
      "Null Values in Each Column\n",
      "month                  0\n",
      "town                   0\n",
      "flat_type              0\n",
      "block                  0\n",
      "street_name            0\n",
      "storey_range           0\n",
      "floor_area_sqm         0\n",
      "flat_model             0\n",
      "lease_commence_date    0\n",
      "resale_price           0\n",
      "dtype: int64\n",
      "\n",
      " Empty Strings in String Columns \n",
      "\n",
      " Percentage of Null Values\n",
      "month                  0.0\n",
      "town                   0.0\n",
      "flat_type              0.0\n",
      "block                  0.0\n",
      "street_name            0.0\n",
      "storey_range           0.0\n",
      "floor_area_sqm         0.0\n",
      "flat_model             0.0\n",
      "lease_commence_date    0.0\n",
      "resale_price           0.0\n",
      "dtype: float64\n",
      "\n",
      " Sample Rows with Null Values\n",
      "Empty DataFrame\n",
      "Columns: [month, town, flat_type, block, street_name, storey_range, floor_area_sqm, flat_model, lease_commence_date, resale_price]\n",
      "Index: []\n"
     ]
    }
   ],
   "source": [
    "# Check for null values in each column\n",
    "print(\"Null Values in Each Column\")\n",
    "print(merged_df.isnull().sum())\n",
    "\n",
    "# Check for empty strings in string columns\n",
    "print(\"\\n Empty Strings in String Columns \")\n",
    "for col in merged_df.select_dtypes(include=['object']).columns:\n",
    "    empty_count = (merged_df[col] == '').sum()\n",
    "    if empty_count > 0:\n",
    "        print(f\"{col}: {empty_count} empty strings\")\n",
    "\n",
    "# Get percentage of null values\n",
    "print(\"\\n Percentage of Null Values\")\n",
    "null_percentage = (merged_df.isnull().sum() / len(merged_df)) * 100\n",
    "print(null_percentage)\n",
    "\n",
    "# Display rows with any null values\n",
    "print(\"\\n Sample Rows with Null Values\")\n",
    "print(merged_df[merged_df.isnull().any(axis=1)].head())"
   ]
  },
  {
   "cell_type": "code",
   "execution_count": 7,
   "metadata": {},
   "outputs": [
    {
     "name": "stdout",
     "output_type": "stream",
     "text": [
      "['ANG MO KIO' 'BEDOK' 'BISHAN' 'BUKIT BATOK' 'BUKIT MERAH' 'BUKIT TIMAH'\n",
      " 'CENTRAL AREA' 'CHOA CHU KANG' 'CLEMENTI' 'GEYLANG' 'HOUGANG'\n",
      " 'JURONG EAST' 'JURONG WEST' 'KALLANG/WHAMPOA' 'MARINE PARADE'\n",
      " 'QUEENSTOWN' 'SENGKANG' 'SERANGOON' 'TAMPINES' 'TOA PAYOH' 'WOODLANDS'\n",
      " 'YISHUN' 'LIM CHU KANG' 'SEMBAWANG' 'BUKIT PANJANG' 'PASIR RIS' 'PUNGGOL']\n",
      "['1 ROOM' '3 ROOM' '4 ROOM' '5 ROOM' '2 ROOM' 'EXECUTIVE'\n",
      " 'MULTI GENERATION' 'MULTI-GENERATION']\n",
      "['ANG MO KIO AVE 1' 'ANG MO KIO AVE 3' 'ANG MO KIO AVE 4'\n",
      " 'ANG MO KIO AVE 10' 'ANG MO KIO AVE 5' 'ANG MO KIO AVE 8'\n",
      " 'ANG MO KIO AVE 6' 'ANG MO KIO AVE 9' 'ANG MO KIO AVE 2'\n",
      " 'BEDOK RESERVOIR RD' 'BEDOK NTH ST 3' 'BEDOK STH RD' 'NEW UPP CHANGI RD'\n",
      " 'BEDOK NTH RD' 'BEDOK STH AVE 1' 'CHAI CHEE RD' 'CHAI CHEE DR'\n",
      " 'BEDOK NTH AVE 4' 'BEDOK STH AVE 3' 'BEDOK STH AVE 2' 'BEDOK NTH ST 2'\n",
      " 'BEDOK NTH ST 4' 'BEDOK NTH AVE 2' 'BEDOK NTH AVE 3' 'BEDOK NTH AVE 1'\n",
      " 'BEDOK NTH ST 1' 'CHAI CHEE ST' 'SIN MING RD' 'SHUNFU RD'\n",
      " 'BT BATOK ST 11' 'BT BATOK WEST AVE 8' 'BT BATOK WEST AVE 6'\n",
      " 'BT BATOK ST 21' 'BT BATOK EAST AVE 5' 'BT BATOK EAST AVE 4'\n",
      " 'HILLVIEW AVE' 'BT BATOK CTRL' 'BT BATOK ST 31' 'BT BATOK EAST AVE 3'\n",
      " 'TAMAN HO SWEE' 'TELOK BLANGAH CRES' 'BEO CRES' 'TELOK BLANGAH DR'\n",
      " 'DEPOT RD' 'TELOK BLANGAH RISE' 'JLN BT MERAH' 'HENDERSON RD' 'INDUS RD'\n",
      " 'BT MERAH VIEW' 'HENDERSON CRES' 'BT PURMEI RD' 'TELOK BLANGAH HTS'\n",
      " 'EVERTON PK' 'KG BAHRU HILL' 'REDHILL CL' 'HOY FATT RD' 'HAVELOCK RD'\n",
      " 'JLN KLINIK' 'JLN RUMAH TINGGI' 'JLN BT HO SWEE' 'KIM CHENG ST'\n",
      " 'MOH GUAN TER' 'TELOK BLANGAH WAY' 'KIM TIAN RD' 'KIM TIAN PL'\n",
      " 'EMPRESS RD' \"QUEEN'S RD\" 'FARRER RD' 'JLN KUKOH' 'OUTRAM PK' 'SHORT ST'\n",
      " 'SELEGIE RD' 'UPP CROSS ST' 'WATERLOO ST' 'QUEEN ST' 'BUFFALO RD'\n",
      " 'ROWELL RD' 'ROCHOR RD' 'BAIN ST' 'SMITH ST' 'VEERASAMY RD'\n",
      " 'TECK WHYE AVE' 'TECK WHYE LANE' 'CLEMENTI AVE 3' 'WEST COAST DR'\n",
      " 'CLEMENTI AVE 2' 'CLEMENTI AVE 5' 'CLEMENTI AVE 4' 'CLEMENTI AVE 1'\n",
      " 'WEST COAST RD' 'CLEMENTI WEST ST 1' 'CLEMENTI WEST ST 2'\n",
      " 'CLEMENTI ST 13' \"C'WEALTH AVE WEST\" 'CLEMENTI AVE 6' 'CLEMENTI ST 14'\n",
      " 'CIRCUIT RD' 'MACPHERSON LANE' 'JLN PASAR BARU' 'GEYLANG SERAI'\n",
      " 'EUNOS CRES' 'SIMS DR' 'ALJUNIED CRES' 'GEYLANG EAST AVE 1' 'DAKOTA CRES'\n",
      " 'PINE CL' 'HAIG RD' 'BALAM RD' 'JLN DUA' 'GEYLANG EAST CTRL' 'EUNOS RD 5'\n",
      " 'HOUGANG AVE 3' 'HOUGANG AVE 5' 'HOUGANG AVE 1' 'HOUGANG ST 22'\n",
      " 'HOUGANG AVE 10' 'LOR AH SOO' 'HOUGANG ST 11' 'HOUGANG AVE 7'\n",
      " 'HOUGANG ST 21' 'TEBAN GDNS RD' 'JURONG EAST AVE 1' 'JURONG EAST ST 32'\n",
      " 'JURONG EAST ST 13' 'JURONG EAST ST 21' 'JURONG EAST ST 24'\n",
      " 'JURONG EAST ST 31' 'PANDAN GDNS' 'YUNG KUANG RD' 'HO CHING RD'\n",
      " 'HU CHING RD' 'BOON LAY DR' 'BOON LAY AVE' 'BOON LAY PL'\n",
      " 'JURONG WEST ST 52' 'JURONG WEST ST 41' 'JURONG WEST AVE 1'\n",
      " 'JURONG WEST ST 42' 'JLN BATU' \"ST. GEORGE'S RD\" 'NTH BRIDGE RD'\n",
      " 'FRENCH RD' 'BEACH RD' 'WHAMPOA DR' 'UPP BOON KENG RD' 'BENDEMEER RD'\n",
      " 'WHAMPOA WEST' 'LOR LIMAU' 'KALLANG BAHRU' 'GEYLANG BAHRU' 'DORSET RD'\n",
      " 'OWEN RD' 'KG ARANG RD' 'JLN BAHAGIA' 'MOULMEIN RD' 'TOWNER RD'\n",
      " 'JLN RAJAH' 'KENT RD' 'AH HOOD RD' \"KING GEORGE'S AVE\" 'CRAWFORD LANE'\n",
      " 'MARINE CRES' 'MARINE DR' 'MARINE TER' \"C'WEALTH CL\" \"C'WEALTH DR\"\n",
      " 'TANGLIN HALT RD' \"C'WEALTH CRES\" 'DOVER RD' 'MARGARET DR' 'GHIM MOH RD'\n",
      " 'DOVER CRES' 'STIRLING RD' 'MEI LING ST' 'HOLLAND CL' 'HOLLAND AVE'\n",
      " 'HOLLAND DR' 'DOVER CL EAST' 'SELETAR WEST FARMWAY 6' 'LOR LEW LIAN'\n",
      " 'SERANGOON NTH AVE 1' 'SERANGOON AVE 2' 'SERANGOON AVE 4'\n",
      " 'SERANGOON CTRL' 'TAMPINES ST 11' 'TAMPINES ST 21' 'TAMPINES ST 91'\n",
      " 'TAMPINES ST 81' 'TAMPINES AVE 4' 'TAMPINES ST 22' 'TAMPINES ST 12'\n",
      " 'TAMPINES ST 23' 'TAMPINES ST 24' 'TAMPINES ST 41' 'TAMPINES ST 82'\n",
      " 'TAMPINES ST 83' 'TAMPINES AVE 5' 'LOR 2 TOA PAYOH' 'LOR 8 TOA PAYOH'\n",
      " 'LOR 1 TOA PAYOH' 'LOR 5 TOA PAYOH' 'LOR 3 TOA PAYOH' 'LOR 7 TOA PAYOH'\n",
      " 'TOA PAYOH EAST' 'LOR 4 TOA PAYOH' 'TOA PAYOH CTRL' 'TOA PAYOH NTH'\n",
      " 'POTONG PASIR AVE 3' 'POTONG PASIR AVE 1' 'UPP ALJUNIED LANE'\n",
      " 'JOO SENG RD' 'MARSILING LANE' 'MARSILING DR' 'MARSILING RISE'\n",
      " 'MARSILING CRES' 'WOODLANDS CTR RD' 'WOODLANDS ST 13' 'WOODLANDS ST 11'\n",
      " 'YISHUN RING RD' 'YISHUN AVE 5' 'YISHUN ST 72' 'YISHUN ST 11'\n",
      " 'YISHUN ST 21' 'YISHUN ST 22' 'YISHUN AVE 3' 'CHAI CHEE AVE' 'ZION RD'\n",
      " 'LENGKOK BAHRU' 'SPOTTISWOODE PK RD' 'NEW MKT RD' 'TG PAGAR PLAZA'\n",
      " 'KELANTAN RD' 'PAYA LEBAR WAY' 'UBI AVE 1' 'SIMS AVE' 'YUNG PING RD'\n",
      " 'TAO CHING RD' 'GLOUCESTER RD' 'BOON KENG RD' 'WHAMPOA STH'\n",
      " 'CAMBRIDGE RD' 'TAMPINES ST 42' 'LOR 6 TOA PAYOH' 'KIM KEAT AVE'\n",
      " 'YISHUN AVE 6' 'YISHUN AVE 9' 'YISHUN ST 71' 'BT BATOK ST 32' 'SILAT AVE'\n",
      " 'TIONG BAHRU RD' 'SAGO LANE' \"ST. GEORGE'S LANE\" 'LIM CHU KANG RD'\n",
      " \"C'WEALTH AVE\" \"QUEEN'S CL\" 'SERANGOON AVE 3' 'POTONG PASIR AVE 2'\n",
      " 'WOODLANDS AVE 1' 'YISHUN AVE 4' 'LOWER DELTA RD' 'NILE RD'\n",
      " 'JLN MEMBINA BARAT' 'JLN BERSEH' 'CHANDER RD' 'CASSIA CRES'\n",
      " 'OLD AIRPORT RD' 'ALJUNIED RD' 'BUANGKOK STH FARMWAY 1' 'BT BATOK ST 33'\n",
      " 'ALEXANDRA RD' 'CHIN SWEE RD' 'SIMS PL' 'HOUGANG AVE 2' 'HOUGANG AVE 8'\n",
      " 'SEMBAWANG RD' 'SIMEI ST 1' 'BT BATOK ST 34' 'BT MERAH CTRL'\n",
      " 'LIM LIAK ST' 'JLN TENTERAM' 'WOODLANDS ST 32' 'SIN MING AVE'\n",
      " 'BT BATOK ST 52' 'DELTA AVE' 'PIPIT RD' 'HOUGANG AVE 4' 'QUEENSWAY'\n",
      " 'YISHUN ST 61' 'BISHAN ST 12' \"JLN MA'MOR\" 'TAMPINES ST 44'\n",
      " 'TAMPINES ST 43' 'BISHAN ST 13' 'JLN DUSUN' 'YISHUN AVE 2' 'JOO CHIAT RD'\n",
      " 'EAST COAST RD' 'REDHILL RD' 'KIM PONG RD' 'RACE COURSE RD'\n",
      " 'KRETA AYER RD' 'HOUGANG ST 61' 'TESSENSOHN RD' 'MARSILING RD'\n",
      " 'YISHUN ST 81' 'BT BATOK ST 51' 'BT BATOK WEST AVE 4'\n",
      " 'BT BATOK WEST AVE 2' 'JURONG WEST ST 91' 'JURONG WEST ST 81' 'GANGSA RD'\n",
      " 'MCNAIR RD' 'SIMEI ST 4' 'YISHUN AVE 7' 'SERANGOON NTH AVE 2'\n",
      " 'YISHUN AVE 11' 'BANGKIT RD' 'JURONG WEST ST 73' 'OUTRAM HILL'\n",
      " 'HOUGANG AVE 6' 'PASIR RIS ST 12' 'PENDING RD' 'PETIR RD' 'LOR 3 GEYLANG'\n",
      " 'BISHAN ST 11' 'PASIR RIS DR 6' 'BISHAN ST 23' 'JURONG WEST ST 92'\n",
      " 'PASIR RIS ST 11' 'YISHUN CTRL' 'BISHAN ST 22' 'SIMEI RD'\n",
      " 'TAMPINES ST 84' 'BT PANJANG RING RD' 'JURONG WEST ST 93' 'FAJAR RD'\n",
      " 'WOODLANDS ST 81' 'CHOA CHU KANG CTRL' 'PASIR RIS ST 51' 'HOUGANG ST 52'\n",
      " 'CASHEW RD' 'TOH YI DR' 'HOUGANG CTRL' 'KG KAYU RD' 'TAMPINES AVE 8'\n",
      " 'TAMPINES ST 45' 'SIMEI ST 2' 'WOODLANDS AVE 3' 'LENGKONG TIGA'\n",
      " 'WOODLANDS ST 82' 'SERANGOON NTH AVE 4' 'SERANGOON CTRL DR'\n",
      " 'BRIGHT HILL DR' 'SAUJANA RD' 'CHOA CHU KANG AVE 3' 'TAMPINES AVE 9'\n",
      " 'JURONG WEST ST 51' 'YUNG HO RD' 'SERANGOON AVE 1' 'PASIR RIS ST 41'\n",
      " 'GEYLANG EAST AVE 2' 'CHOA CHU KANG AVE 2' 'KIM KEAT LINK'\n",
      " 'PASIR RIS DR 4' 'PASIR RIS ST 21' 'SENG POH RD' 'HOUGANG ST 51'\n",
      " 'JURONG WEST ST 72' 'JURONG WEST ST 71' 'PASIR RIS ST 52'\n",
      " 'TAMPINES ST 32' 'CHOA CHU KANG AVE 4' 'CHOA CHU KANG LOOP' 'JLN TENAGA'\n",
      " 'TAMPINES CTRL 1' 'TAMPINES ST 33' 'BT BATOK WEST AVE 7'\n",
      " 'JURONG WEST AVE 5' 'TAMPINES AVE 7' 'WOODLANDS ST 83'\n",
      " 'CHOA CHU KANG ST 51' 'PASIR RIS DR 3' 'YISHUN CTRL 1'\n",
      " 'CHOA CHU KANG AVE 1' 'WOODLANDS ST 31' 'BT MERAH LANE 1'\n",
      " 'PASIR RIS ST 13' 'ELIAS RD' 'BISHAN ST 24' 'WHAMPOA RD'\n",
      " 'WOODLANDS ST 41' 'PASIR RIS ST 71' 'JURONG WEST ST 74' 'PASIR RIS DR 1'\n",
      " 'PASIR RIS ST 72' 'PASIR RIS DR 10' 'CHOA CHU KANG ST 52' 'CLARENCE LANE'\n",
      " 'CHOA CHU KANG NTH 6' 'PASIR RIS ST 53' 'CHOA CHU KANG NTH 5'\n",
      " 'ANG MO KIO ST 21' 'JLN DAMAI' 'CHOA CHU KANG ST 62' 'WOODLANDS AVE 5'\n",
      " 'WOODLANDS DR 50' 'CHOA CHU KANG ST 53' 'TAMPINES ST 72'\n",
      " 'UPP SERANGOON RD' 'JURONG WEST ST 75' 'STRATHMORE AVE'\n",
      " 'ANG MO KIO ST 31' 'TAMPINES ST 34' 'YUNG AN RD' 'WOODLANDS AVE 4'\n",
      " 'CHOA CHU KANG NTH 7' 'ANG MO KIO ST 11' 'WOODLANDS AVE 9' 'YUNG LOH RD'\n",
      " 'CHOA CHU KANG DR' 'CHOA CHU KANG ST 54' 'REDHILL LANE' 'KANG CHING RD'\n",
      " 'TAH CHING RD' 'SIMEI ST 5' 'WOODLANDS DR 40' 'WOODLANDS DR 70'\n",
      " 'TAMPINES ST 71' 'WOODLANDS DR 42' 'SERANGOON NTH AVE 3' 'JELAPANG RD'\n",
      " 'BT BATOK ST 22' 'HOUGANG ST 91' 'WOODLANDS AVE 6' 'WOODLANDS CIRCLE'\n",
      " 'CORPORATION DR' 'LOMPANG RD' 'WOODLANDS DR 72' 'CHOA CHU KANG ST 64'\n",
      " 'BT BATOK ST 24' 'JLN TECK WHYE' 'WOODLANDS CRES' 'WOODLANDS DR 60'\n",
      " 'CHANGI VILLAGE RD' 'BT BATOK ST 25' 'HOUGANG AVE 9' 'JURONG WEST CTRL 1'\n",
      " 'WOODLANDS RING RD' 'CHOA CHU KANG AVE 5' 'TOH GUAN RD'\n",
      " 'JURONG WEST ST 61' 'WOODLANDS DR 14' 'HOUGANG ST 92'\n",
      " 'CHOA CHU KANG CRES' 'SEMBAWANG CL' 'CANBERRA RD' 'SEMBAWANG CRES'\n",
      " 'SEMBAWANG VISTA' 'COMPASSVALE WALK' 'RIVERVALE ST' 'WOODLANDS DR 62'\n",
      " 'SEMBAWANG DR' 'WOODLANDS DR 53' 'WOODLANDS DR 52' 'RIVERVALE WALK'\n",
      " 'COMPASSVALE LANE' 'RIVERVALE DR' 'SENJA RD' 'JURONG WEST ST 65'\n",
      " 'RIVERVALE CRES' 'WOODLANDS DR 44' 'COMPASSVALE DR' 'WOODLANDS DR 16'\n",
      " 'COMPASSVALE RD' 'WOODLANDS DR 73' 'HOUGANG ST 31' 'JURONG WEST ST 64'\n",
      " 'WOODLANDS DR 71' 'YISHUN ST 20' 'ADMIRALTY DR' 'COMPASSVALE ST'\n",
      " 'BEDOK RESERVOIR VIEW' 'YUNG SHENG RD' 'ADMIRALTY LINK'\n",
      " 'SENGKANG EAST WAY' 'ANG MO KIO ST 32' 'ANG MO KIO ST 52' 'BOON TIONG RD'\n",
      " 'JURONG WEST ST 62' 'ANCHORVALE LINK' 'CANBERRA LINK' 'COMPASSVALE CRES'\n",
      " 'CLEMENTI ST 12' 'MONTREAL DR' 'WELLINGTON CIRCLE' 'SENGKANG EAST RD'\n",
      " 'JURONG WEST AVE 3' 'ANCHORVALE LANE' 'SENJA LINK' 'EDGEFIELD PLAINS'\n",
      " 'ANCHORVALE DR' 'SEGAR RD' 'FARRER PK RD' 'PUNGGOL FIELD'\n",
      " 'EDGEDALE PLAINS' 'ANCHORVALE RD' 'CANTONMENT CL' 'JLN MEMBINA'\n",
      " 'FERNVALE LANE' 'JURONG WEST ST 25' 'CLEMENTI ST 11' 'PUNGGOL FIELD WALK'\n",
      " 'KLANG LANE' 'PUNGGOL CTRL' 'JELEBU RD' 'BUANGKOK CRES' 'WOODLANDS DR 75'\n",
      " 'BT BATOK WEST AVE 5' 'JELLICOE RD' 'PUNGGOL DR' 'JURONG WEST ST 24'\n",
      " 'SEMBAWANG WAY' 'FERNVALE RD' 'BUANGKOK LINK' 'FERNVALE LINK' 'JLN TIGA'\n",
      " 'YUAN CHING RD' 'COMPASSVALE LINK' 'MARINE PARADE CTRL' 'COMPASSVALE BOW'\n",
      " 'PUNGGOL RD' 'BEDOK CTRL' 'PUNGGOL EAST' 'SENGKANG CTRL'\n",
      " 'TAMPINES CTRL 7' 'SENGKANG WEST AVE' 'PUNGGOL PL' 'CANTONMENT RD'\n",
      " 'GHIM MOH LINK' 'SIMEI LANE' 'YISHUN ST 41' 'TELOK BLANGAH ST 31'\n",
      " 'JLN KAYU' 'LOR 1A TOA PAYOH' 'PUNGGOL WALK' 'SENGKANG WEST WAY'\n",
      " 'BUANGKOK GREEN' 'PUNGGOL WAY' 'YISHUN ST 31' 'TECK WHYE CRES'\n",
      " 'MONTREAL LINK' 'UPP SERANGOON CRES' 'SUMANG LINK' 'SENGKANG EAST AVE'\n",
      " 'YISHUN AVE 1' 'ANCHORVALE CRES' 'ANCHORVALE ST' 'TAMPINES CTRL 8'\n",
      " 'YISHUN ST 51' 'UPP SERANGOON VIEW' 'TAMPINES AVE 1'\n",
      " 'BEDOK RESERVOIR CRES' 'ANG MO KIO ST 61' 'DAWSON RD' 'FERNVALE ST'\n",
      " 'HOUGANG ST 32' 'TAMPINES ST 86' 'SUMANG WALK']\n"
     ]
    }
   ],
   "source": [
    "# print unique towns, flat types, and street names\n",
    "print(merged_df['town'].unique())\n",
    "print(merged_df['flat_type'].unique())\n",
    "print(merged_df['street_name'].unique())"
   ]
  },
  {
   "cell_type": "code",
   "execution_count": 8,
   "metadata": {},
   "outputs": [
    {
     "name": "stdout",
     "output_type": "stream",
     "text": [
      "['10 TO 12' '04 TO 06' '07 TO 09' '01 TO 03' '13 TO 15' '19 TO 21'\n",
      " '16 TO 18' '25 TO 27' '22 TO 24' '28 TO 30' '31 TO 33' '40 TO 42'\n",
      " '37 TO 39' '34 TO 36' '06 TO 10' '01 TO 05' '11 TO 15' '16 TO 20'\n",
      " '21 TO 25' '26 TO 30' '36 TO 40' '31 TO 35' '46 TO 48' '43 TO 45'\n",
      " '49 TO 51']\n",
      "['IMPROVED' 'NEW GENERATION' 'MODEL A' 'STANDARD' 'SIMPLIFIED'\n",
      " 'MODEL A-MAISONETTE' 'APARTMENT' 'MAISONETTE' 'TERRACE' '2-ROOM'\n",
      " 'IMPROVED-MAISONETTE' 'MULTI GENERATION' 'PREMIUM APARTMENT' 'Improved'\n",
      " 'New Generation' 'Model A' 'Standard' 'Apartment' 'Simplified'\n",
      " 'Model A-Maisonette' 'Maisonette' 'Multi Generation' 'Adjoined flat'\n",
      " 'Premium Apartment' 'Terrace' 'Improved-Maisonette' 'Premium Maisonette'\n",
      " '2-room' 'Model A2' 'DBSS' 'Type S1' 'Type S2' 'Premium Apartment Loft']\n"
     ]
    }
   ],
   "source": [
    "# print unique storey range and flat models\n",
    "print(merged_df['storey_range'].unique())\n",
    "print(merged_df['flat_model'].unique())"
   ]
  },
  {
   "cell_type": "code",
   "execution_count": 9,
   "metadata": {},
   "outputs": [
    {
     "data": {
      "text/plain": [
       "Model A                 228389\n",
       "Improved                217356\n",
       "New Generation          177570\n",
       "Simplified               53960\n",
       "Standard                 39854\n",
       "Premium Apartment        35066\n",
       "Apartment                32004\n",
       "Maisonette               28798\n",
       "Model A2                  9109\n",
       "DBSS                      1609\n",
       "Adjoined flat             1085\n",
       "Terrace                    642\n",
       "Multi Generation           502\n",
       "Type S1S2                  401\n",
       "Executive Maisonette       196\n",
       "2-room                      40\n",
       "Name: flat_model, dtype: int64"
      ]
     },
     "execution_count": 9,
     "metadata": {},
     "output_type": "execute_result"
    }
   ],
   "source": [
    "# replace and standardise flat models\n",
    "replace_values = {'NEW GENERATION':'New Generation', 'SIMPLIFIED':'Simplified', 'STANDARD':'Standard', 'MODEL A-MAISONETTE':'Maisonette', 'MULTI GENERATION':'Multi Generation', 'IMPROVED-MAISONETTE':'Executive Maisonette', 'Improved-Maisonette':'Executive Maisonette', 'Premium Maisonette':'Executive Maisonette', '2-ROOM':'2-room', 'MODEL A':'Model A', 'MAISONETTE':'Maisonette', 'Model A-Maisonette':'Maisonette', 'IMPROVED':'Improved', 'TERRACE':'Terrace', 'PREMIUM APARTMENT':'Premium Apartment', 'Premium Apartment Loft':'Premium Apartment', 'APARTMENT':'Apartment', 'Type S1':'Type S1S2', 'Type S2':'Type S1S2'}\n",
    "merged_df = merged_df.replace({'flat_model': replace_values})\n",
    "\n",
    "merged_df['flat_model'].value_counts()"
   ]
  },
  {
   "cell_type": "code",
   "execution_count": 10,
   "metadata": {},
   "outputs": [
    {
     "name": "stdout",
     "output_type": "stream",
     "text": [
      "['1 ROOM' '3 ROOM' '4 ROOM' '5 ROOM' '2 ROOM' 'EXECUTIVE'\n",
      " 'MULTI GENERATION']\n"
     ]
    }
   ],
   "source": [
    "# standardise flat types for multi generation units\n",
    "merged_df['flat_type'] = merged_df['flat_type'].replace('MULTI-GENERATION', 'MULTI GENERATION')\n",
    "print(merged_df['flat_type'].unique())"
   ]
  },
  {
   "cell_type": "code",
   "execution_count": 11,
   "metadata": {},
   "outputs": [
    {
     "data": {
      "text/plain": [
       "month                  datetime64[ns]\n",
       "town                           object\n",
       "flat_type                      object\n",
       "block                          object\n",
       "street_name                    object\n",
       "storey_range                   object\n",
       "floor_area_sqm                float64\n",
       "flat_model                     object\n",
       "lease_commence_date    datetime64[ns]\n",
       "resale_price                  float64\n",
       "dtype: object"
      ]
     },
     "execution_count": 11,
     "metadata": {},
     "output_type": "execute_result"
    }
   ],
   "source": [
    "# format date time columns\n",
    "merged_df['month'] = pd.to_datetime(merged_df['month'], format='%Y-%m')\n",
    "merged_df['lease_commence_date'] = pd.to_datetime(merged_df['lease_commence_date'], format='%Y')\n",
    "merged_df.dtypes"
   ]
  },
  {
   "cell_type": "code",
   "execution_count": 12,
   "metadata": {},
   "outputs": [
    {
     "data": {
      "application/vnd.microsoft.datawrangler.viewer.v0+json": {
       "columns": [
        {
         "name": "index",
         "rawType": "int64",
         "type": "integer"
        },
        {
         "name": "month",
         "rawType": "datetime64[ns]",
         "type": "datetime"
        },
        {
         "name": "town",
         "rawType": "object",
         "type": "string"
        },
        {
         "name": "flat_type",
         "rawType": "object",
         "type": "string"
        },
        {
         "name": "block",
         "rawType": "object",
         "type": "string"
        },
        {
         "name": "street_name",
         "rawType": "object",
         "type": "string"
        },
        {
         "name": "storey_range",
         "rawType": "object",
         "type": "string"
        },
        {
         "name": "floor_area_sqm",
         "rawType": "float64",
         "type": "float"
        },
        {
         "name": "flat_model",
         "rawType": "object",
         "type": "string"
        },
        {
         "name": "lease_commence_date",
         "rawType": "datetime64[ns]",
         "type": "datetime"
        },
        {
         "name": "resale_price",
         "rawType": "float64",
         "type": "float"
        },
        {
         "name": "flat_age",
         "rawType": "int64",
         "type": "integer"
        }
       ],
       "conversionMethod": "pd.DataFrame",
       "ref": "f375d709-f067-42b5-b1de-08eea910d14d",
       "rows": [
        [
         "0",
         "1990-01-01 00:00:00",
         "ANG MO KIO",
         "1 ROOM",
         "309",
         "ANG MO KIO AVE 1",
         "10 TO 12",
         "31.0",
         "Improved",
         "1977-01-01 00:00:00",
         "9000.0",
         "13"
        ],
        [
         "1",
         "1990-01-01 00:00:00",
         "ANG MO KIO",
         "1 ROOM",
         "309",
         "ANG MO KIO AVE 1",
         "04 TO 06",
         "31.0",
         "Improved",
         "1977-01-01 00:00:00",
         "6000.0",
         "13"
        ],
        [
         "2",
         "1990-01-01 00:00:00",
         "ANG MO KIO",
         "1 ROOM",
         "309",
         "ANG MO KIO AVE 1",
         "10 TO 12",
         "31.0",
         "Improved",
         "1977-01-01 00:00:00",
         "8000.0",
         "13"
        ],
        [
         "3",
         "1990-01-01 00:00:00",
         "ANG MO KIO",
         "1 ROOM",
         "309",
         "ANG MO KIO AVE 1",
         "07 TO 09",
         "31.0",
         "Improved",
         "1977-01-01 00:00:00",
         "6000.0",
         "13"
        ],
        [
         "4",
         "1990-01-01 00:00:00",
         "ANG MO KIO",
         "3 ROOM",
         "216",
         "ANG MO KIO AVE 1",
         "04 TO 06",
         "73.0",
         "New Generation",
         "1976-01-01 00:00:00",
         "47200.0",
         "14"
        ]
       ],
       "shape": {
        "columns": 11,
        "rows": 5
       }
      },
      "text/html": [
       "<div>\n",
       "<style scoped>\n",
       "    .dataframe tbody tr th:only-of-type {\n",
       "        vertical-align: middle;\n",
       "    }\n",
       "\n",
       "    .dataframe tbody tr th {\n",
       "        vertical-align: top;\n",
       "    }\n",
       "\n",
       "    .dataframe thead th {\n",
       "        text-align: right;\n",
       "    }\n",
       "</style>\n",
       "<table border=\"1\" class=\"dataframe\">\n",
       "  <thead>\n",
       "    <tr style=\"text-align: right;\">\n",
       "      <th></th>\n",
       "      <th>month</th>\n",
       "      <th>town</th>\n",
       "      <th>flat_type</th>\n",
       "      <th>block</th>\n",
       "      <th>street_name</th>\n",
       "      <th>storey_range</th>\n",
       "      <th>floor_area_sqm</th>\n",
       "      <th>flat_model</th>\n",
       "      <th>lease_commence_date</th>\n",
       "      <th>resale_price</th>\n",
       "      <th>flat_age</th>\n",
       "    </tr>\n",
       "  </thead>\n",
       "  <tbody>\n",
       "    <tr>\n",
       "      <th>0</th>\n",
       "      <td>1990-01-01</td>\n",
       "      <td>ANG MO KIO</td>\n",
       "      <td>1 ROOM</td>\n",
       "      <td>309</td>\n",
       "      <td>ANG MO KIO AVE 1</td>\n",
       "      <td>10 TO 12</td>\n",
       "      <td>31.0</td>\n",
       "      <td>Improved</td>\n",
       "      <td>1977-01-01</td>\n",
       "      <td>9000.0</td>\n",
       "      <td>13</td>\n",
       "    </tr>\n",
       "    <tr>\n",
       "      <th>1</th>\n",
       "      <td>1990-01-01</td>\n",
       "      <td>ANG MO KIO</td>\n",
       "      <td>1 ROOM</td>\n",
       "      <td>309</td>\n",
       "      <td>ANG MO KIO AVE 1</td>\n",
       "      <td>04 TO 06</td>\n",
       "      <td>31.0</td>\n",
       "      <td>Improved</td>\n",
       "      <td>1977-01-01</td>\n",
       "      <td>6000.0</td>\n",
       "      <td>13</td>\n",
       "    </tr>\n",
       "    <tr>\n",
       "      <th>2</th>\n",
       "      <td>1990-01-01</td>\n",
       "      <td>ANG MO KIO</td>\n",
       "      <td>1 ROOM</td>\n",
       "      <td>309</td>\n",
       "      <td>ANG MO KIO AVE 1</td>\n",
       "      <td>10 TO 12</td>\n",
       "      <td>31.0</td>\n",
       "      <td>Improved</td>\n",
       "      <td>1977-01-01</td>\n",
       "      <td>8000.0</td>\n",
       "      <td>13</td>\n",
       "    </tr>\n",
       "    <tr>\n",
       "      <th>3</th>\n",
       "      <td>1990-01-01</td>\n",
       "      <td>ANG MO KIO</td>\n",
       "      <td>1 ROOM</td>\n",
       "      <td>309</td>\n",
       "      <td>ANG MO KIO AVE 1</td>\n",
       "      <td>07 TO 09</td>\n",
       "      <td>31.0</td>\n",
       "      <td>Improved</td>\n",
       "      <td>1977-01-01</td>\n",
       "      <td>6000.0</td>\n",
       "      <td>13</td>\n",
       "    </tr>\n",
       "    <tr>\n",
       "      <th>4</th>\n",
       "      <td>1990-01-01</td>\n",
       "      <td>ANG MO KIO</td>\n",
       "      <td>3 ROOM</td>\n",
       "      <td>216</td>\n",
       "      <td>ANG MO KIO AVE 1</td>\n",
       "      <td>04 TO 06</td>\n",
       "      <td>73.0</td>\n",
       "      <td>New Generation</td>\n",
       "      <td>1976-01-01</td>\n",
       "      <td>47200.0</td>\n",
       "      <td>14</td>\n",
       "    </tr>\n",
       "  </tbody>\n",
       "</table>\n",
       "</div>"
      ],
      "text/plain": [
       "       month        town flat_type block       street_name storey_range  \\\n",
       "0 1990-01-01  ANG MO KIO    1 ROOM   309  ANG MO KIO AVE 1     10 TO 12   \n",
       "1 1990-01-01  ANG MO KIO    1 ROOM   309  ANG MO KIO AVE 1     04 TO 06   \n",
       "2 1990-01-01  ANG MO KIO    1 ROOM   309  ANG MO KIO AVE 1     10 TO 12   \n",
       "3 1990-01-01  ANG MO KIO    1 ROOM   309  ANG MO KIO AVE 1     07 TO 09   \n",
       "4 1990-01-01  ANG MO KIO    3 ROOM   216  ANG MO KIO AVE 1     04 TO 06   \n",
       "\n",
       "   floor_area_sqm      flat_model lease_commence_date  resale_price  flat_age  \n",
       "0            31.0        Improved          1977-01-01        9000.0        13  \n",
       "1            31.0        Improved          1977-01-01        6000.0        13  \n",
       "2            31.0        Improved          1977-01-01        8000.0        13  \n",
       "3            31.0        Improved          1977-01-01        6000.0        13  \n",
       "4            73.0  New Generation          1976-01-01       47200.0        14  "
      ]
     },
     "execution_count": 12,
     "metadata": {},
     "output_type": "execute_result"
    }
   ],
   "source": [
    "# calculate flat age at time of resale\n",
    "merged_df['flat_age'] = (merged_df['month'].dt.year - merged_df['lease_commence_date'].dt.year)\n",
    "merged_df.head()"
   ]
  },
  {
   "cell_type": "markdown",
   "metadata": {},
   "source": [
    "### 3. Read in externally extracted data"
   ]
  },
  {
   "cell_type": "markdown",
   "metadata": {},
   "source": [
    "3.1. Read in CPI data to adjust for inflation"
   ]
  },
  {
   "cell_type": "code",
   "execution_count": 13,
   "metadata": {},
   "outputs": [
    {
     "data": {
      "application/vnd.microsoft.datawrangler.viewer.v0+json": {
       "columns": [
        {
         "name": "index",
         "rawType": "int64",
         "type": "integer"
        },
        {
         "name": "year",
         "rawType": "int64",
         "type": "integer"
        },
        {
         "name": "cpi",
         "rawType": "float64",
         "type": "float"
        }
       ],
       "conversionMethod": "pd.DataFrame",
       "ref": "8d0a2e12-d17b-4890-97aa-2c82516378bf",
       "rows": [
        [
         "0",
         "2024",
         "100.0"
        ],
        [
         "1",
         "2023",
         "97.666"
        ],
        [
         "2",
         "2022",
         "93.163"
        ],
        [
         "3",
         "2021",
         "87.781"
        ],
        [
         "4",
         "2020",
         "85.794"
        ]
       ],
       "shape": {
        "columns": 2,
        "rows": 5
       }
      },
      "text/html": [
       "<div>\n",
       "<style scoped>\n",
       "    .dataframe tbody tr th:only-of-type {\n",
       "        vertical-align: middle;\n",
       "    }\n",
       "\n",
       "    .dataframe tbody tr th {\n",
       "        vertical-align: top;\n",
       "    }\n",
       "\n",
       "    .dataframe thead th {\n",
       "        text-align: right;\n",
       "    }\n",
       "</style>\n",
       "<table border=\"1\" class=\"dataframe\">\n",
       "  <thead>\n",
       "    <tr style=\"text-align: right;\">\n",
       "      <th></th>\n",
       "      <th>year</th>\n",
       "      <th>cpi</th>\n",
       "    </tr>\n",
       "  </thead>\n",
       "  <tbody>\n",
       "    <tr>\n",
       "      <th>0</th>\n",
       "      <td>2024</td>\n",
       "      <td>100.000</td>\n",
       "    </tr>\n",
       "    <tr>\n",
       "      <th>1</th>\n",
       "      <td>2023</td>\n",
       "      <td>97.666</td>\n",
       "    </tr>\n",
       "    <tr>\n",
       "      <th>2</th>\n",
       "      <td>2022</td>\n",
       "      <td>93.163</td>\n",
       "    </tr>\n",
       "    <tr>\n",
       "      <th>3</th>\n",
       "      <td>2021</td>\n",
       "      <td>87.781</td>\n",
       "    </tr>\n",
       "    <tr>\n",
       "      <th>4</th>\n",
       "      <td>2020</td>\n",
       "      <td>85.794</td>\n",
       "    </tr>\n",
       "  </tbody>\n",
       "</table>\n",
       "</div>"
      ],
      "text/plain": [
       "   year      cpi\n",
       "0  2024  100.000\n",
       "1  2023   97.666\n",
       "2  2022   93.163\n",
       "3  2021   87.781\n",
       "4  2020   85.794"
      ]
     },
     "execution_count": 13,
     "metadata": {},
     "output_type": "execute_result"
    }
   ],
   "source": [
    "# CPI extracted from https://www.singstat.gov.sg/publications/reference/ebook/economy/prices-and-price-indices\n",
    "cpi = pd.read_csv('data/cpi.csv')\n",
    "cpi.head()"
   ]
  },
  {
   "cell_type": "code",
   "execution_count": 14,
   "metadata": {},
   "outputs": [
    {
     "data": {
      "application/vnd.microsoft.datawrangler.viewer.v0+json": {
       "columns": [
        {
         "name": "index",
         "rawType": "int64",
         "type": "integer"
        },
        {
         "name": "month",
         "rawType": "datetime64[ns]",
         "type": "datetime"
        },
        {
         "name": "town",
         "rawType": "object",
         "type": "string"
        },
        {
         "name": "flat_type",
         "rawType": "object",
         "type": "string"
        },
        {
         "name": "block",
         "rawType": "object",
         "type": "string"
        },
        {
         "name": "street_name",
         "rawType": "object",
         "type": "string"
        },
        {
         "name": "storey_range",
         "rawType": "object",
         "type": "string"
        },
        {
         "name": "floor_area_sqm",
         "rawType": "float64",
         "type": "float"
        },
        {
         "name": "flat_model",
         "rawType": "object",
         "type": "string"
        },
        {
         "name": "lease_commence_date",
         "rawType": "datetime64[ns]",
         "type": "datetime"
        },
        {
         "name": "resale_price",
         "rawType": "float64",
         "type": "float"
        },
        {
         "name": "flat_age",
         "rawType": "int64",
         "type": "integer"
        },
        {
         "name": "year",
         "rawType": "int64",
         "type": "integer"
        }
       ],
       "conversionMethod": "pd.DataFrame",
       "ref": "f8d5c064-9e61-4424-930a-c64eb5f6df24",
       "rows": [
        [
         "0",
         "1990-01-01 00:00:00",
         "ANG MO KIO",
         "1 ROOM",
         "309",
         "ANG MO KIO AVE 1",
         "10 TO 12",
         "31.0",
         "Improved",
         "1977-01-01 00:00:00",
         "9000.0",
         "13",
         "1990"
        ],
        [
         "1",
         "1990-01-01 00:00:00",
         "ANG MO KIO",
         "1 ROOM",
         "309",
         "ANG MO KIO AVE 1",
         "04 TO 06",
         "31.0",
         "Improved",
         "1977-01-01 00:00:00",
         "6000.0",
         "13",
         "1990"
        ],
        [
         "2",
         "1990-01-01 00:00:00",
         "ANG MO KIO",
         "1 ROOM",
         "309",
         "ANG MO KIO AVE 1",
         "10 TO 12",
         "31.0",
         "Improved",
         "1977-01-01 00:00:00",
         "8000.0",
         "13",
         "1990"
        ],
        [
         "3",
         "1990-01-01 00:00:00",
         "ANG MO KIO",
         "1 ROOM",
         "309",
         "ANG MO KIO AVE 1",
         "07 TO 09",
         "31.0",
         "Improved",
         "1977-01-01 00:00:00",
         "6000.0",
         "13",
         "1990"
        ],
        [
         "4",
         "1990-01-01 00:00:00",
         "ANG MO KIO",
         "3 ROOM",
         "216",
         "ANG MO KIO AVE 1",
         "04 TO 06",
         "73.0",
         "New Generation",
         "1976-01-01 00:00:00",
         "47200.0",
         "14",
         "1990"
        ]
       ],
       "shape": {
        "columns": 12,
        "rows": 5
       }
      },
      "text/html": [
       "<div>\n",
       "<style scoped>\n",
       "    .dataframe tbody tr th:only-of-type {\n",
       "        vertical-align: middle;\n",
       "    }\n",
       "\n",
       "    .dataframe tbody tr th {\n",
       "        vertical-align: top;\n",
       "    }\n",
       "\n",
       "    .dataframe thead th {\n",
       "        text-align: right;\n",
       "    }\n",
       "</style>\n",
       "<table border=\"1\" class=\"dataframe\">\n",
       "  <thead>\n",
       "    <tr style=\"text-align: right;\">\n",
       "      <th></th>\n",
       "      <th>month</th>\n",
       "      <th>town</th>\n",
       "      <th>flat_type</th>\n",
       "      <th>block</th>\n",
       "      <th>street_name</th>\n",
       "      <th>storey_range</th>\n",
       "      <th>floor_area_sqm</th>\n",
       "      <th>flat_model</th>\n",
       "      <th>lease_commence_date</th>\n",
       "      <th>resale_price</th>\n",
       "      <th>flat_age</th>\n",
       "      <th>year</th>\n",
       "    </tr>\n",
       "  </thead>\n",
       "  <tbody>\n",
       "    <tr>\n",
       "      <th>0</th>\n",
       "      <td>1990-01-01</td>\n",
       "      <td>ANG MO KIO</td>\n",
       "      <td>1 ROOM</td>\n",
       "      <td>309</td>\n",
       "      <td>ANG MO KIO AVE 1</td>\n",
       "      <td>10 TO 12</td>\n",
       "      <td>31.0</td>\n",
       "      <td>Improved</td>\n",
       "      <td>1977-01-01</td>\n",
       "      <td>9000.0</td>\n",
       "      <td>13</td>\n",
       "      <td>1990</td>\n",
       "    </tr>\n",
       "    <tr>\n",
       "      <th>1</th>\n",
       "      <td>1990-01-01</td>\n",
       "      <td>ANG MO KIO</td>\n",
       "      <td>1 ROOM</td>\n",
       "      <td>309</td>\n",
       "      <td>ANG MO KIO AVE 1</td>\n",
       "      <td>04 TO 06</td>\n",
       "      <td>31.0</td>\n",
       "      <td>Improved</td>\n",
       "      <td>1977-01-01</td>\n",
       "      <td>6000.0</td>\n",
       "      <td>13</td>\n",
       "      <td>1990</td>\n",
       "    </tr>\n",
       "    <tr>\n",
       "      <th>2</th>\n",
       "      <td>1990-01-01</td>\n",
       "      <td>ANG MO KIO</td>\n",
       "      <td>1 ROOM</td>\n",
       "      <td>309</td>\n",
       "      <td>ANG MO KIO AVE 1</td>\n",
       "      <td>10 TO 12</td>\n",
       "      <td>31.0</td>\n",
       "      <td>Improved</td>\n",
       "      <td>1977-01-01</td>\n",
       "      <td>8000.0</td>\n",
       "      <td>13</td>\n",
       "      <td>1990</td>\n",
       "    </tr>\n",
       "    <tr>\n",
       "      <th>3</th>\n",
       "      <td>1990-01-01</td>\n",
       "      <td>ANG MO KIO</td>\n",
       "      <td>1 ROOM</td>\n",
       "      <td>309</td>\n",
       "      <td>ANG MO KIO AVE 1</td>\n",
       "      <td>07 TO 09</td>\n",
       "      <td>31.0</td>\n",
       "      <td>Improved</td>\n",
       "      <td>1977-01-01</td>\n",
       "      <td>6000.0</td>\n",
       "      <td>13</td>\n",
       "      <td>1990</td>\n",
       "    </tr>\n",
       "    <tr>\n",
       "      <th>4</th>\n",
       "      <td>1990-01-01</td>\n",
       "      <td>ANG MO KIO</td>\n",
       "      <td>3 ROOM</td>\n",
       "      <td>216</td>\n",
       "      <td>ANG MO KIO AVE 1</td>\n",
       "      <td>04 TO 06</td>\n",
       "      <td>73.0</td>\n",
       "      <td>New Generation</td>\n",
       "      <td>1976-01-01</td>\n",
       "      <td>47200.0</td>\n",
       "      <td>14</td>\n",
       "      <td>1990</td>\n",
       "    </tr>\n",
       "  </tbody>\n",
       "</table>\n",
       "</div>"
      ],
      "text/plain": [
       "       month        town flat_type block       street_name storey_range  \\\n",
       "0 1990-01-01  ANG MO KIO    1 ROOM   309  ANG MO KIO AVE 1     10 TO 12   \n",
       "1 1990-01-01  ANG MO KIO    1 ROOM   309  ANG MO KIO AVE 1     04 TO 06   \n",
       "2 1990-01-01  ANG MO KIO    1 ROOM   309  ANG MO KIO AVE 1     10 TO 12   \n",
       "3 1990-01-01  ANG MO KIO    1 ROOM   309  ANG MO KIO AVE 1     07 TO 09   \n",
       "4 1990-01-01  ANG MO KIO    3 ROOM   216  ANG MO KIO AVE 1     04 TO 06   \n",
       "\n",
       "   floor_area_sqm      flat_model lease_commence_date  resale_price  flat_age  \\\n",
       "0            31.0        Improved          1977-01-01        9000.0        13   \n",
       "1            31.0        Improved          1977-01-01        6000.0        13   \n",
       "2            31.0        Improved          1977-01-01        8000.0        13   \n",
       "3            31.0        Improved          1977-01-01        6000.0        13   \n",
       "4            73.0  New Generation          1976-01-01       47200.0        14   \n",
       "\n",
       "   year  \n",
       "0  1990  \n",
       "1  1990  \n",
       "2  1990  \n",
       "3  1990  \n",
       "4  1990  "
      ]
     },
     "execution_count": 14,
     "metadata": {},
     "output_type": "execute_result"
    }
   ],
   "source": [
    "# create a year column so that it can be left joined with CPI data\n",
    "merged_df['year'] = merged_df['month'].dt.year\n",
    "merged_df.head()"
   ]
  },
  {
   "cell_type": "code",
   "execution_count": 15,
   "metadata": {},
   "outputs": [],
   "source": [
    "# merge CPI data on year\n",
    "merged_df = merged_df.merge(cpi, on='year', how='left')"
   ]
  },
  {
   "cell_type": "code",
   "execution_count": 16,
   "metadata": {},
   "outputs": [
    {
     "data": {
      "application/vnd.microsoft.datawrangler.viewer.v0+json": {
       "columns": [
        {
         "name": "index",
         "rawType": "int64",
         "type": "integer"
        },
        {
         "name": "month",
         "rawType": "datetime64[ns]",
         "type": "datetime"
        },
        {
         "name": "town",
         "rawType": "object",
         "type": "string"
        },
        {
         "name": "flat_type",
         "rawType": "object",
         "type": "string"
        },
        {
         "name": "block",
         "rawType": "object",
         "type": "string"
        },
        {
         "name": "street_name",
         "rawType": "object",
         "type": "string"
        },
        {
         "name": "storey_range",
         "rawType": "object",
         "type": "string"
        },
        {
         "name": "floor_area_sqm",
         "rawType": "float64",
         "type": "float"
        },
        {
         "name": "flat_model",
         "rawType": "object",
         "type": "string"
        },
        {
         "name": "lease_commence_date",
         "rawType": "datetime64[ns]",
         "type": "datetime"
        },
        {
         "name": "resale_price",
         "rawType": "float64",
         "type": "float"
        },
        {
         "name": "flat_age",
         "rawType": "int64",
         "type": "integer"
        },
        {
         "name": "year",
         "rawType": "int64",
         "type": "integer"
        },
        {
         "name": "cpi",
         "rawType": "float64",
         "type": "float"
        },
        {
         "name": "real_price",
         "rawType": "float64",
         "type": "float"
        }
       ],
       "conversionMethod": "pd.DataFrame",
       "ref": "543e639f-cd2d-4a09-9d4d-cfddb9c4332a",
       "rows": [
        [
         "0",
         "1990-01-01 00:00:00",
         "ANG MO KIO",
         "1 ROOM",
         "309",
         "ANG MO KIO AVE 1",
         "10 TO 12",
         "31.0",
         "Improved",
         "1977-01-01 00:00:00",
         "9000.0",
         "13",
         "1990",
         "53.898",
         "16698.207725704106"
        ],
        [
         "1",
         "1990-01-01 00:00:00",
         "ANG MO KIO",
         "1 ROOM",
         "309",
         "ANG MO KIO AVE 1",
         "04 TO 06",
         "31.0",
         "Improved",
         "1977-01-01 00:00:00",
         "6000.0",
         "13",
         "1990",
         "53.898",
         "11132.138483802739"
        ],
        [
         "2",
         "1990-01-01 00:00:00",
         "ANG MO KIO",
         "1 ROOM",
         "309",
         "ANG MO KIO AVE 1",
         "10 TO 12",
         "31.0",
         "Improved",
         "1977-01-01 00:00:00",
         "8000.0",
         "13",
         "1990",
         "53.898",
         "14842.851311736984"
        ],
        [
         "3",
         "1990-01-01 00:00:00",
         "ANG MO KIO",
         "1 ROOM",
         "309",
         "ANG MO KIO AVE 1",
         "07 TO 09",
         "31.0",
         "Improved",
         "1977-01-01 00:00:00",
         "6000.0",
         "13",
         "1990",
         "53.898",
         "11132.138483802739"
        ],
        [
         "4",
         "1990-01-01 00:00:00",
         "ANG MO KIO",
         "3 ROOM",
         "216",
         "ANG MO KIO AVE 1",
         "04 TO 06",
         "73.0",
         "New Generation",
         "1976-01-01 00:00:00",
         "47200.0",
         "14",
         "1990",
         "53.898",
         "87572.82273924821"
        ]
       ],
       "shape": {
        "columns": 14,
        "rows": 5
       }
      },
      "text/html": [
       "<div>\n",
       "<style scoped>\n",
       "    .dataframe tbody tr th:only-of-type {\n",
       "        vertical-align: middle;\n",
       "    }\n",
       "\n",
       "    .dataframe tbody tr th {\n",
       "        vertical-align: top;\n",
       "    }\n",
       "\n",
       "    .dataframe thead th {\n",
       "        text-align: right;\n",
       "    }\n",
       "</style>\n",
       "<table border=\"1\" class=\"dataframe\">\n",
       "  <thead>\n",
       "    <tr style=\"text-align: right;\">\n",
       "      <th></th>\n",
       "      <th>month</th>\n",
       "      <th>town</th>\n",
       "      <th>flat_type</th>\n",
       "      <th>block</th>\n",
       "      <th>street_name</th>\n",
       "      <th>storey_range</th>\n",
       "      <th>floor_area_sqm</th>\n",
       "      <th>flat_model</th>\n",
       "      <th>lease_commence_date</th>\n",
       "      <th>resale_price</th>\n",
       "      <th>flat_age</th>\n",
       "      <th>year</th>\n",
       "      <th>cpi</th>\n",
       "      <th>real_price</th>\n",
       "    </tr>\n",
       "  </thead>\n",
       "  <tbody>\n",
       "    <tr>\n",
       "      <th>0</th>\n",
       "      <td>1990-01-01</td>\n",
       "      <td>ANG MO KIO</td>\n",
       "      <td>1 ROOM</td>\n",
       "      <td>309</td>\n",
       "      <td>ANG MO KIO AVE 1</td>\n",
       "      <td>10 TO 12</td>\n",
       "      <td>31.0</td>\n",
       "      <td>Improved</td>\n",
       "      <td>1977-01-01</td>\n",
       "      <td>9000.0</td>\n",
       "      <td>13</td>\n",
       "      <td>1990</td>\n",
       "      <td>53.898</td>\n",
       "      <td>16698.207726</td>\n",
       "    </tr>\n",
       "    <tr>\n",
       "      <th>1</th>\n",
       "      <td>1990-01-01</td>\n",
       "      <td>ANG MO KIO</td>\n",
       "      <td>1 ROOM</td>\n",
       "      <td>309</td>\n",
       "      <td>ANG MO KIO AVE 1</td>\n",
       "      <td>04 TO 06</td>\n",
       "      <td>31.0</td>\n",
       "      <td>Improved</td>\n",
       "      <td>1977-01-01</td>\n",
       "      <td>6000.0</td>\n",
       "      <td>13</td>\n",
       "      <td>1990</td>\n",
       "      <td>53.898</td>\n",
       "      <td>11132.138484</td>\n",
       "    </tr>\n",
       "    <tr>\n",
       "      <th>2</th>\n",
       "      <td>1990-01-01</td>\n",
       "      <td>ANG MO KIO</td>\n",
       "      <td>1 ROOM</td>\n",
       "      <td>309</td>\n",
       "      <td>ANG MO KIO AVE 1</td>\n",
       "      <td>10 TO 12</td>\n",
       "      <td>31.0</td>\n",
       "      <td>Improved</td>\n",
       "      <td>1977-01-01</td>\n",
       "      <td>8000.0</td>\n",
       "      <td>13</td>\n",
       "      <td>1990</td>\n",
       "      <td>53.898</td>\n",
       "      <td>14842.851312</td>\n",
       "    </tr>\n",
       "    <tr>\n",
       "      <th>3</th>\n",
       "      <td>1990-01-01</td>\n",
       "      <td>ANG MO KIO</td>\n",
       "      <td>1 ROOM</td>\n",
       "      <td>309</td>\n",
       "      <td>ANG MO KIO AVE 1</td>\n",
       "      <td>07 TO 09</td>\n",
       "      <td>31.0</td>\n",
       "      <td>Improved</td>\n",
       "      <td>1977-01-01</td>\n",
       "      <td>6000.0</td>\n",
       "      <td>13</td>\n",
       "      <td>1990</td>\n",
       "      <td>53.898</td>\n",
       "      <td>11132.138484</td>\n",
       "    </tr>\n",
       "    <tr>\n",
       "      <th>4</th>\n",
       "      <td>1990-01-01</td>\n",
       "      <td>ANG MO KIO</td>\n",
       "      <td>3 ROOM</td>\n",
       "      <td>216</td>\n",
       "      <td>ANG MO KIO AVE 1</td>\n",
       "      <td>04 TO 06</td>\n",
       "      <td>73.0</td>\n",
       "      <td>New Generation</td>\n",
       "      <td>1976-01-01</td>\n",
       "      <td>47200.0</td>\n",
       "      <td>14</td>\n",
       "      <td>1990</td>\n",
       "      <td>53.898</td>\n",
       "      <td>87572.822739</td>\n",
       "    </tr>\n",
       "  </tbody>\n",
       "</table>\n",
       "</div>"
      ],
      "text/plain": [
       "       month        town flat_type block       street_name storey_range  \\\n",
       "0 1990-01-01  ANG MO KIO    1 ROOM   309  ANG MO KIO AVE 1     10 TO 12   \n",
       "1 1990-01-01  ANG MO KIO    1 ROOM   309  ANG MO KIO AVE 1     04 TO 06   \n",
       "2 1990-01-01  ANG MO KIO    1 ROOM   309  ANG MO KIO AVE 1     10 TO 12   \n",
       "3 1990-01-01  ANG MO KIO    1 ROOM   309  ANG MO KIO AVE 1     07 TO 09   \n",
       "4 1990-01-01  ANG MO KIO    3 ROOM   216  ANG MO KIO AVE 1     04 TO 06   \n",
       "\n",
       "   floor_area_sqm      flat_model lease_commence_date  resale_price  flat_age  \\\n",
       "0            31.0        Improved          1977-01-01        9000.0        13   \n",
       "1            31.0        Improved          1977-01-01        6000.0        13   \n",
       "2            31.0        Improved          1977-01-01        8000.0        13   \n",
       "3            31.0        Improved          1977-01-01        6000.0        13   \n",
       "4            73.0  New Generation          1976-01-01       47200.0        14   \n",
       "\n",
       "   year     cpi    real_price  \n",
       "0  1990  53.898  16698.207726  \n",
       "1  1990  53.898  11132.138484  \n",
       "2  1990  53.898  14842.851312  \n",
       "3  1990  53.898  11132.138484  \n",
       "4  1990  53.898  87572.822739  "
      ]
     },
     "execution_count": 16,
     "metadata": {},
     "output_type": "execute_result"
    }
   ],
   "source": [
    "# to get inflation adjusted price of flats\n",
    "merged_df['real_price'] = (merged_df['resale_price'] / merged_df['cpi']) * 100 \n",
    "merged_df.head()"
   ]
  },
  {
   "cell_type": "code",
   "execution_count": 17,
   "metadata": {},
   "outputs": [],
   "source": [
    "# write the merged data into a csv, just in case :) \n",
    "merged_df.to_csv('data/merged_df.csv', index=False)"
   ]
  },
  {
   "cell_type": "markdown",
   "metadata": {},
   "source": [
    "Read in externally extracted data, such as locations of primary schools and MRT stations\n",
    "Please refer to get_coordinates.ipynb for steps on how to extract these datapoints"
   ]
  },
  {
   "cell_type": "code",
   "execution_count": 18,
   "metadata": {},
   "outputs": [
    {
     "data": {
      "application/vnd.microsoft.datawrangler.viewer.v0+json": {
       "columns": [
        {
         "name": "index",
         "rawType": "int64",
         "type": "integer"
        },
        {
         "name": "block",
         "rawType": "object",
         "type": "string"
        },
        {
         "name": "street_name",
         "rawType": "object",
         "type": "string"
        },
        {
         "name": "Address",
         "rawType": "object",
         "type": "string"
        },
        {
         "name": "Postal",
         "rawType": "object",
         "type": "string"
        },
        {
         "name": "Latitude",
         "rawType": "float64",
         "type": "float"
        },
        {
         "name": "Longitude",
         "rawType": "float64",
         "type": "float"
        },
        {
         "name": "mrt_count_500m",
         "rawType": "int64",
         "type": "integer"
        },
        {
         "name": "schools_within_2km",
         "rawType": "int64",
         "type": "integer"
        },
        {
         "name": "top25_schools_within_2km",
         "rawType": "int64",
         "type": "integer"
        },
        {
         "name": "nearby_top25_schools",
         "rawType": "object",
         "type": "string"
        },
        {
         "name": "distance_to_cbd",
         "rawType": "float64",
         "type": "float"
        }
       ],
       "conversionMethod": "pd.DataFrame",
       "ref": "fa291d41-c52e-402e-b82d-bda9a203b199",
       "rows": [
        [
         "0",
         "309",
         "ANG MO KIO AVE 1",
         "207 ANG MO KIO AVENUE 1 ANG MO KIO 22 SINGAPORE 560207",
         "560207",
         "1.36582089504381",
         "103.842847772078",
         "0",
         "10",
         "4",
         "Ai Tong School, Catholic High School (Primary), CHIJ St. Nicholas Girls' School, Holy Innocents' Primary School",
         "9134.378660641143"
        ],
        [
         "1",
         "216",
         "ANG MO KIO AVE 1",
         "216 ANG MO KIO AVENUE 1 ANG MO KIO 22 SINGAPORE 560216",
         "560216",
         "1.36619678831054",
         "103.841505011903",
         "0",
         "10",
         "3",
         "Ai Tong School, Catholic High School (Primary), CHIJ St. Nicholas Girls' School",
         "9192.71478969994"
        ],
        [
         "2",
         "211",
         "ANG MO KIO AVE 3",
         "211 ANG MO KIO AVENUE 3 SINGAPORE 560211",
         "560211",
         "1.369196965617",
         "103.841666636086",
         "0",
         "11",
         "4",
         "Ai Tong School, Catholic High School (Primary), CHIJ St. Nicholas Girls' School, Holy Innocents' Primary School",
         "9521.908685765602"
        ],
        [
         "3",
         "202",
         "ANG MO KIO AVE 3",
         "202 ANG MO KIO AVENUE 3 ANG MO KIO VIEW SINGAPORE 560202",
         "560202",
         "1.36844644010937",
         "103.844516260527",
         "0",
         "11",
         "4",
         "Ai Tong School, Catholic High School (Primary), CHIJ St. Nicholas Girls' School, Holy Innocents' Primary School",
         "9407.743380401133"
        ],
        [
         "4",
         "235",
         "ANG MO KIO AVE 3",
         "235 ANG MO KIO AVENUE 3 KEBUN BARU PALM VIEW SINGAPORE 560235",
         "560235",
         "1.36682360872342",
         "103.83649123351",
         "0",
         "8",
         "3",
         "Ai Tong School, Catholic High School (Primary), CHIJ St. Nicholas Girls' School",
         "9344.886132964471"
        ]
       ],
       "shape": {
        "columns": 11,
        "rows": 5
       }
      },
      "text/html": [
       "<div>\n",
       "<style scoped>\n",
       "    .dataframe tbody tr th:only-of-type {\n",
       "        vertical-align: middle;\n",
       "    }\n",
       "\n",
       "    .dataframe tbody tr th {\n",
       "        vertical-align: top;\n",
       "    }\n",
       "\n",
       "    .dataframe thead th {\n",
       "        text-align: right;\n",
       "    }\n",
       "</style>\n",
       "<table border=\"1\" class=\"dataframe\">\n",
       "  <thead>\n",
       "    <tr style=\"text-align: right;\">\n",
       "      <th></th>\n",
       "      <th>block</th>\n",
       "      <th>street_name</th>\n",
       "      <th>Address</th>\n",
       "      <th>Postal</th>\n",
       "      <th>Latitude</th>\n",
       "      <th>Longitude</th>\n",
       "      <th>mrt_count_500m</th>\n",
       "      <th>schools_within_2km</th>\n",
       "      <th>top25_schools_within_2km</th>\n",
       "      <th>nearby_top25_schools</th>\n",
       "      <th>distance_to_cbd</th>\n",
       "    </tr>\n",
       "  </thead>\n",
       "  <tbody>\n",
       "    <tr>\n",
       "      <th>0</th>\n",
       "      <td>309</td>\n",
       "      <td>ANG MO KIO AVE 1</td>\n",
       "      <td>207 ANG MO KIO AVENUE 1 ANG MO KIO 22 SINGAPOR...</td>\n",
       "      <td>560207</td>\n",
       "      <td>1.365821</td>\n",
       "      <td>103.842848</td>\n",
       "      <td>0</td>\n",
       "      <td>10</td>\n",
       "      <td>4</td>\n",
       "      <td>Ai Tong School, Catholic High School (Primary)...</td>\n",
       "      <td>9134.378661</td>\n",
       "    </tr>\n",
       "    <tr>\n",
       "      <th>1</th>\n",
       "      <td>216</td>\n",
       "      <td>ANG MO KIO AVE 1</td>\n",
       "      <td>216 ANG MO KIO AVENUE 1 ANG MO KIO 22 SINGAPOR...</td>\n",
       "      <td>560216</td>\n",
       "      <td>1.366197</td>\n",
       "      <td>103.841505</td>\n",
       "      <td>0</td>\n",
       "      <td>10</td>\n",
       "      <td>3</td>\n",
       "      <td>Ai Tong School, Catholic High School (Primary)...</td>\n",
       "      <td>9192.714790</td>\n",
       "    </tr>\n",
       "    <tr>\n",
       "      <th>2</th>\n",
       "      <td>211</td>\n",
       "      <td>ANG MO KIO AVE 3</td>\n",
       "      <td>211 ANG MO KIO AVENUE 3 SINGAPORE 560211</td>\n",
       "      <td>560211</td>\n",
       "      <td>1.369197</td>\n",
       "      <td>103.841667</td>\n",
       "      <td>0</td>\n",
       "      <td>11</td>\n",
       "      <td>4</td>\n",
       "      <td>Ai Tong School, Catholic High School (Primary)...</td>\n",
       "      <td>9521.908686</td>\n",
       "    </tr>\n",
       "    <tr>\n",
       "      <th>3</th>\n",
       "      <td>202</td>\n",
       "      <td>ANG MO KIO AVE 3</td>\n",
       "      <td>202 ANG MO KIO AVENUE 3 ANG MO KIO VIEW SINGAP...</td>\n",
       "      <td>560202</td>\n",
       "      <td>1.368446</td>\n",
       "      <td>103.844516</td>\n",
       "      <td>0</td>\n",
       "      <td>11</td>\n",
       "      <td>4</td>\n",
       "      <td>Ai Tong School, Catholic High School (Primary)...</td>\n",
       "      <td>9407.743380</td>\n",
       "    </tr>\n",
       "    <tr>\n",
       "      <th>4</th>\n",
       "      <td>235</td>\n",
       "      <td>ANG MO KIO AVE 3</td>\n",
       "      <td>235 ANG MO KIO AVENUE 3 KEBUN BARU PALM VIEW S...</td>\n",
       "      <td>560235</td>\n",
       "      <td>1.366824</td>\n",
       "      <td>103.836491</td>\n",
       "      <td>0</td>\n",
       "      <td>8</td>\n",
       "      <td>3</td>\n",
       "      <td>Ai Tong School, Catholic High School (Primary)...</td>\n",
       "      <td>9344.886133</td>\n",
       "    </tr>\n",
       "  </tbody>\n",
       "</table>\n",
       "</div>"
      ],
      "text/plain": [
       "  block       street_name                                            Address  \\\n",
       "0   309  ANG MO KIO AVE 1  207 ANG MO KIO AVENUE 1 ANG MO KIO 22 SINGAPOR...   \n",
       "1   216  ANG MO KIO AVE 1  216 ANG MO KIO AVENUE 1 ANG MO KIO 22 SINGAPOR...   \n",
       "2   211  ANG MO KIO AVE 3           211 ANG MO KIO AVENUE 3 SINGAPORE 560211   \n",
       "3   202  ANG MO KIO AVE 3  202 ANG MO KIO AVENUE 3 ANG MO KIO VIEW SINGAP...   \n",
       "4   235  ANG MO KIO AVE 3  235 ANG MO KIO AVENUE 3 KEBUN BARU PALM VIEW S...   \n",
       "\n",
       "   Postal  Latitude   Longitude  mrt_count_500m  schools_within_2km  \\\n",
       "0  560207  1.365821  103.842848               0                  10   \n",
       "1  560216  1.366197  103.841505               0                  10   \n",
       "2  560211  1.369197  103.841667               0                  11   \n",
       "3  560202  1.368446  103.844516               0                  11   \n",
       "4  560235  1.366824  103.836491               0                   8   \n",
       "\n",
       "   top25_schools_within_2km  \\\n",
       "0                         4   \n",
       "1                         3   \n",
       "2                         4   \n",
       "3                         4   \n",
       "4                         3   \n",
       "\n",
       "                                nearby_top25_schools  distance_to_cbd  \n",
       "0  Ai Tong School, Catholic High School (Primary)...      9134.378661  \n",
       "1  Ai Tong School, Catholic High School (Primary)...      9192.714790  \n",
       "2  Ai Tong School, Catholic High School (Primary)...      9521.908686  \n",
       "3  Ai Tong School, Catholic High School (Primary)...      9407.743380  \n",
       "4  Ai Tong School, Catholic High School (Primary)...      9344.886133  "
      ]
     },
     "execution_count": 18,
     "metadata": {},
     "output_type": "execute_result"
    }
   ],
   "source": [
    "location_details = pd.read_csv('data/location_details.csv')\n",
    "location_details.head()"
   ]
  },
  {
   "cell_type": "code",
   "execution_count": 19,
   "metadata": {},
   "outputs": [
    {
     "data": {
      "application/vnd.microsoft.datawrangler.viewer.v0+json": {
       "columns": [
        {
         "name": "index",
         "rawType": "int64",
         "type": "integer"
        },
        {
         "name": "month",
         "rawType": "datetime64[ns]",
         "type": "datetime"
        },
        {
         "name": "town",
         "rawType": "object",
         "type": "string"
        },
        {
         "name": "flat_type",
         "rawType": "object",
         "type": "string"
        },
        {
         "name": "block",
         "rawType": "object",
         "type": "string"
        },
        {
         "name": "street_name",
         "rawType": "object",
         "type": "string"
        },
        {
         "name": "storey_range",
         "rawType": "object",
         "type": "string"
        },
        {
         "name": "floor_area_sqm",
         "rawType": "float64",
         "type": "float"
        },
        {
         "name": "flat_model",
         "rawType": "object",
         "type": "string"
        },
        {
         "name": "lease_commence_date",
         "rawType": "datetime64[ns]",
         "type": "datetime"
        },
        {
         "name": "resale_price",
         "rawType": "float64",
         "type": "float"
        },
        {
         "name": "flat_age",
         "rawType": "int64",
         "type": "integer"
        },
        {
         "name": "year",
         "rawType": "int64",
         "type": "integer"
        },
        {
         "name": "cpi",
         "rawType": "float64",
         "type": "float"
        },
        {
         "name": "real_price",
         "rawType": "float64",
         "type": "float"
        },
        {
         "name": "mrt_count_500m",
         "rawType": "int64",
         "type": "integer"
        },
        {
         "name": "schools_within_2km",
         "rawType": "int64",
         "type": "integer"
        },
        {
         "name": "top25_schools_within_2km",
         "rawType": "int64",
         "type": "integer"
        },
        {
         "name": "distance_to_cbd",
         "rawType": "float64",
         "type": "float"
        }
       ],
       "conversionMethod": "pd.DataFrame",
       "ref": "1f7f28c2-6fba-4b12-8424-77092f416766",
       "rows": [
        [
         "0",
         "1990-01-01 00:00:00",
         "ANG MO KIO",
         "1 ROOM",
         "309",
         "ANG MO KIO AVE 1",
         "10 TO 12",
         "31.0",
         "Improved",
         "1977-01-01 00:00:00",
         "9000.0",
         "13",
         "1990",
         "53.898",
         "16698.207725704106",
         "0",
         "10",
         "4",
         "9134.378660641143"
        ],
        [
         "1",
         "1990-01-01 00:00:00",
         "ANG MO KIO",
         "1 ROOM",
         "309",
         "ANG MO KIO AVE 1",
         "04 TO 06",
         "31.0",
         "Improved",
         "1977-01-01 00:00:00",
         "6000.0",
         "13",
         "1990",
         "53.898",
         "11132.138483802739",
         "0",
         "10",
         "4",
         "9134.378660641143"
        ],
        [
         "2",
         "1990-01-01 00:00:00",
         "ANG MO KIO",
         "1 ROOM",
         "309",
         "ANG MO KIO AVE 1",
         "10 TO 12",
         "31.0",
         "Improved",
         "1977-01-01 00:00:00",
         "8000.0",
         "13",
         "1990",
         "53.898",
         "14842.851311736984",
         "0",
         "10",
         "4",
         "9134.378660641143"
        ],
        [
         "3",
         "1990-01-01 00:00:00",
         "ANG MO KIO",
         "1 ROOM",
         "309",
         "ANG MO KIO AVE 1",
         "07 TO 09",
         "31.0",
         "Improved",
         "1977-01-01 00:00:00",
         "6000.0",
         "13",
         "1990",
         "53.898",
         "11132.138483802739",
         "0",
         "10",
         "4",
         "9134.378660641143"
        ],
        [
         "4",
         "1990-01-01 00:00:00",
         "ANG MO KIO",
         "3 ROOM",
         "216",
         "ANG MO KIO AVE 1",
         "04 TO 06",
         "73.0",
         "New Generation",
         "1976-01-01 00:00:00",
         "47200.0",
         "14",
         "1990",
         "53.898",
         "87572.82273924821",
         "0",
         "10",
         "3",
         "9192.71478969994"
        ]
       ],
       "shape": {
        "columns": 18,
        "rows": 5
       }
      },
      "text/html": [
       "<div>\n",
       "<style scoped>\n",
       "    .dataframe tbody tr th:only-of-type {\n",
       "        vertical-align: middle;\n",
       "    }\n",
       "\n",
       "    .dataframe tbody tr th {\n",
       "        vertical-align: top;\n",
       "    }\n",
       "\n",
       "    .dataframe thead th {\n",
       "        text-align: right;\n",
       "    }\n",
       "</style>\n",
       "<table border=\"1\" class=\"dataframe\">\n",
       "  <thead>\n",
       "    <tr style=\"text-align: right;\">\n",
       "      <th></th>\n",
       "      <th>month</th>\n",
       "      <th>town</th>\n",
       "      <th>flat_type</th>\n",
       "      <th>block</th>\n",
       "      <th>street_name</th>\n",
       "      <th>storey_range</th>\n",
       "      <th>floor_area_sqm</th>\n",
       "      <th>flat_model</th>\n",
       "      <th>lease_commence_date</th>\n",
       "      <th>resale_price</th>\n",
       "      <th>flat_age</th>\n",
       "      <th>year</th>\n",
       "      <th>cpi</th>\n",
       "      <th>real_price</th>\n",
       "      <th>mrt_count_500m</th>\n",
       "      <th>schools_within_2km</th>\n",
       "      <th>top25_schools_within_2km</th>\n",
       "      <th>distance_to_cbd</th>\n",
       "    </tr>\n",
       "  </thead>\n",
       "  <tbody>\n",
       "    <tr>\n",
       "      <th>0</th>\n",
       "      <td>1990-01-01</td>\n",
       "      <td>ANG MO KIO</td>\n",
       "      <td>1 ROOM</td>\n",
       "      <td>309</td>\n",
       "      <td>ANG MO KIO AVE 1</td>\n",
       "      <td>10 TO 12</td>\n",
       "      <td>31.0</td>\n",
       "      <td>Improved</td>\n",
       "      <td>1977-01-01</td>\n",
       "      <td>9000.0</td>\n",
       "      <td>13</td>\n",
       "      <td>1990</td>\n",
       "      <td>53.898</td>\n",
       "      <td>16698.207726</td>\n",
       "      <td>0</td>\n",
       "      <td>10</td>\n",
       "      <td>4</td>\n",
       "      <td>9134.378661</td>\n",
       "    </tr>\n",
       "    <tr>\n",
       "      <th>1</th>\n",
       "      <td>1990-01-01</td>\n",
       "      <td>ANG MO KIO</td>\n",
       "      <td>1 ROOM</td>\n",
       "      <td>309</td>\n",
       "      <td>ANG MO KIO AVE 1</td>\n",
       "      <td>04 TO 06</td>\n",
       "      <td>31.0</td>\n",
       "      <td>Improved</td>\n",
       "      <td>1977-01-01</td>\n",
       "      <td>6000.0</td>\n",
       "      <td>13</td>\n",
       "      <td>1990</td>\n",
       "      <td>53.898</td>\n",
       "      <td>11132.138484</td>\n",
       "      <td>0</td>\n",
       "      <td>10</td>\n",
       "      <td>4</td>\n",
       "      <td>9134.378661</td>\n",
       "    </tr>\n",
       "    <tr>\n",
       "      <th>2</th>\n",
       "      <td>1990-01-01</td>\n",
       "      <td>ANG MO KIO</td>\n",
       "      <td>1 ROOM</td>\n",
       "      <td>309</td>\n",
       "      <td>ANG MO KIO AVE 1</td>\n",
       "      <td>10 TO 12</td>\n",
       "      <td>31.0</td>\n",
       "      <td>Improved</td>\n",
       "      <td>1977-01-01</td>\n",
       "      <td>8000.0</td>\n",
       "      <td>13</td>\n",
       "      <td>1990</td>\n",
       "      <td>53.898</td>\n",
       "      <td>14842.851312</td>\n",
       "      <td>0</td>\n",
       "      <td>10</td>\n",
       "      <td>4</td>\n",
       "      <td>9134.378661</td>\n",
       "    </tr>\n",
       "    <tr>\n",
       "      <th>3</th>\n",
       "      <td>1990-01-01</td>\n",
       "      <td>ANG MO KIO</td>\n",
       "      <td>1 ROOM</td>\n",
       "      <td>309</td>\n",
       "      <td>ANG MO KIO AVE 1</td>\n",
       "      <td>07 TO 09</td>\n",
       "      <td>31.0</td>\n",
       "      <td>Improved</td>\n",
       "      <td>1977-01-01</td>\n",
       "      <td>6000.0</td>\n",
       "      <td>13</td>\n",
       "      <td>1990</td>\n",
       "      <td>53.898</td>\n",
       "      <td>11132.138484</td>\n",
       "      <td>0</td>\n",
       "      <td>10</td>\n",
       "      <td>4</td>\n",
       "      <td>9134.378661</td>\n",
       "    </tr>\n",
       "    <tr>\n",
       "      <th>4</th>\n",
       "      <td>1990-01-01</td>\n",
       "      <td>ANG MO KIO</td>\n",
       "      <td>3 ROOM</td>\n",
       "      <td>216</td>\n",
       "      <td>ANG MO KIO AVE 1</td>\n",
       "      <td>04 TO 06</td>\n",
       "      <td>73.0</td>\n",
       "      <td>New Generation</td>\n",
       "      <td>1976-01-01</td>\n",
       "      <td>47200.0</td>\n",
       "      <td>14</td>\n",
       "      <td>1990</td>\n",
       "      <td>53.898</td>\n",
       "      <td>87572.822739</td>\n",
       "      <td>0</td>\n",
       "      <td>10</td>\n",
       "      <td>3</td>\n",
       "      <td>9192.714790</td>\n",
       "    </tr>\n",
       "  </tbody>\n",
       "</table>\n",
       "</div>"
      ],
      "text/plain": [
       "       month        town flat_type block       street_name storey_range  \\\n",
       "0 1990-01-01  ANG MO KIO    1 ROOM   309  ANG MO KIO AVE 1     10 TO 12   \n",
       "1 1990-01-01  ANG MO KIO    1 ROOM   309  ANG MO KIO AVE 1     04 TO 06   \n",
       "2 1990-01-01  ANG MO KIO    1 ROOM   309  ANG MO KIO AVE 1     10 TO 12   \n",
       "3 1990-01-01  ANG MO KIO    1 ROOM   309  ANG MO KIO AVE 1     07 TO 09   \n",
       "4 1990-01-01  ANG MO KIO    3 ROOM   216  ANG MO KIO AVE 1     04 TO 06   \n",
       "\n",
       "   floor_area_sqm      flat_model lease_commence_date  resale_price  flat_age  \\\n",
       "0            31.0        Improved          1977-01-01        9000.0        13   \n",
       "1            31.0        Improved          1977-01-01        6000.0        13   \n",
       "2            31.0        Improved          1977-01-01        8000.0        13   \n",
       "3            31.0        Improved          1977-01-01        6000.0        13   \n",
       "4            73.0  New Generation          1976-01-01       47200.0        14   \n",
       "\n",
       "   year     cpi    real_price  mrt_count_500m  schools_within_2km  \\\n",
       "0  1990  53.898  16698.207726               0                  10   \n",
       "1  1990  53.898  11132.138484               0                  10   \n",
       "2  1990  53.898  14842.851312               0                  10   \n",
       "3  1990  53.898  11132.138484               0                  10   \n",
       "4  1990  53.898  87572.822739               0                  10   \n",
       "\n",
       "   top25_schools_within_2km  distance_to_cbd  \n",
       "0                         4      9134.378661  \n",
       "1                         4      9134.378661  \n",
       "2                         4      9134.378661  \n",
       "3                         4      9134.378661  \n",
       "4                         3      9192.714790  "
      ]
     },
     "execution_count": 19,
     "metadata": {},
     "output_type": "execute_result"
    }
   ],
   "source": [
    "# Perform left join between merged_df and location_details\n",
    "merged_df = merged_df.merge(\n",
    "    location_details[['block', 'street_name', 'mrt_count_500m', 'schools_within_2km', 'top25_schools_within_2km', 'distance_to_cbd']],\n",
    "    on=['block', 'street_name'],\n",
    "    how='left'\n",
    ")\n",
    "merged_df.head()"
   ]
  },
  {
   "cell_type": "code",
   "execution_count": 20,
   "metadata": {},
   "outputs": [],
   "source": [
    "# Create a new column which re-categorises storeys into Low, Mid and High Floor\n",
    "# - 1st - 6th floor = Low Floor\n",
    "# - 7th - 12th floor = Mid Floor \n",
    "# - 13th - 35th floor = High Floor\n",
    "\n",
    "def categorize_storey(storey_range):\n",
    "    # Split the range and get first number\n",
    "    range_parts = storey_range.split('TO')\n",
    "    start_floor = int(range_parts[0].strip()[:2])  # Get first 2 digits\n",
    "    \n",
    "    if start_floor <= 6:\n",
    "        return \"Low Floor\"\n",
    "    elif start_floor <= 12:\n",
    "        return \"Mid Floor\" \n",
    "    else:\n",
    "        return \"High Floor\"\n",
    "\n",
    "# Create new column with floor categories\n",
    "merged_df['floor_category'] = merged_df['storey_range'].apply(categorize_storey)"
   ]
  },
  {
   "cell_type": "code",
   "execution_count": 21,
   "metadata": {},
   "outputs": [],
   "source": [
    "# create new column region to categorise towns\n",
    "region_map = {'ANG MO KIO':'Central', 'BEDOK':'East', 'BISHAN':'Central', 'BUKIT BATOK':'West', 'BUKIT MERAH':'Central',\n",
    "       'BUKIT PANJANG':'West', 'BUKIT TIMAH':'Central', 'CENTRAL AREA':'Central', 'CHOA CHU KANG':'West',\n",
    "       'CLEMENTI':'West', 'GEYLANG':'Central', 'HOUGANG':'North East', 'JURONG EAST':'West', 'JURONG WEST':'West',\n",
    "       'KALLANG/WHAMPOA':'Central', 'MARINE PARADE':'Central', 'PASIR RIS':'East', 'PUNGGOL':'North East',\n",
    "       'QUEENSTOWN':'Central', 'SEMBAWANG':'North', 'SENGKANG':'North East', 'SERANGOON':'North East', 'TAMPINES':'East',\n",
    "       'TOA PAYOH':'Central', 'WOODLANDS':'North', 'YISHUN':'North'}\n",
    "\n",
    "merged_df['region'] = merged_df['town'].map(region_map)\n"
   ]
  },
  {
   "cell_type": "code",
   "execution_count": 22,
   "metadata": {},
   "outputs": [
    {
     "data": {
      "image/png": "[encoded data removed]",
      "text/plain": [
       "<Figure size 720x432 with 1 Axes>"
      ]
     },
     "metadata": {
      "needs_background": "light"
     },
     "output_type": "display_data"
    },
    {
     "data": {
      "image/png": "[encoded data removed]",
      "text/plain": [
       "<Figure size 720x432 with 1 Axes>"
      ]
     },
     "metadata": {
      "needs_background": "light"
     },
     "output_type": "display_data"
    }
   ],
   "source": [
    "import matplotlib.pyplot as plt\n",
    "import seaborn as sns\n",
    "\n",
    "# plot distribution of flat models\n",
    "plt.figure(figsize=(10,6))\n",
    "sns.countplot(data=merged_df, x='flat_model', order=merged_df['flat_model'].value_counts().index)\n",
    "plt.xticks(rotation=45)\n",
    "plt.title('Distribution of Flat Model')\n",
    "plt.xlabel('Flat Model')\n",
    "plt.ylabel('Count')\n",
    "plt.tight_layout()\n",
    "plt.show()\n",
    "\n",
    "# Pplot distribution of flat types\n",
    "plt.figure(figsize=(10,6))\n",
    "sns.countplot(data=merged_df, x='flat_type', order=merged_df['flat_type'].value_counts().index)\n",
    "plt.xticks(rotation=45)\n",
    "plt.title('Distribution of Flat Types')\n",
    "plt.xlabel('Flat Type')\n",
    "plt.ylabel('Count')\n",
    "plt.tight_layout()\n",
    "plt.show()\n"
   ]
  },
  {
   "cell_type": "code",
   "execution_count": 23,
   "metadata": {},
   "outputs": [],
   "source": [
    "# remove flat types with very few cases\n",
    "merged_df = merged_df[~merged_df['flat_type'].isin(['MULTI GENERATION', '1 ROOM'])]\n",
    "\n",
    "# re-categorize flat models\n",
    "replace_values = {'Executive Maisonette':'Maisonette', 'Terrace':'Special', 'Adjoined flat':'Special', \n",
    "                    'Type S1S2':'Special', 'DBSS':'Special', 'Model A2':'Model A', 'Premium Apartment':'Apartment', 'Improved':'Standard', 'Simplified':'Model A', '2-room':'Standard'}\n",
    "merged_df = merged_df.replace({'flat_model': replace_values})\n",
    "\n",
    "# label encode flat type\n",
    "replace_values = {'2 ROOM':0, '3 ROOM':1, '4 ROOM':2, '5 ROOM':3, 'EXECUTIVE':4}\n",
    "merged_df = merged_df.replace({'flat_type': replace_values})\n"
   ]
  },
  {
   "cell_type": "code",
   "execution_count": 24,
   "metadata": {},
   "outputs": [
    {
     "name": "stdout",
     "output_type": "stream",
     "text": [
      "<class 'pandas.core.frame.DataFrame'>\n",
      "Int64Index: 824806 entries, 4 to 826580\n",
      "Data columns (total 20 columns):\n",
      " #   Column                    Non-Null Count   Dtype         \n",
      "---  ------                    --------------   -----         \n",
      " 0   month                     824806 non-null  datetime64[ns]\n",
      " 1   town                      824806 non-null  object        \n",
      " 2   flat_type                 824806 non-null  int64         \n",
      " 3   block                     824806 non-null  object        \n",
      " 4   street_name               824806 non-null  object        \n",
      " 5   storey_range              824806 non-null  object        \n",
      " 6   floor_area_sqm            824806 non-null  float64       \n",
      " 7   flat_model                824806 non-null  object        \n",
      " 8   lease_commence_date       824806 non-null  int64         \n",
      " 9   resale_price              824806 non-null  float64       \n",
      " 10  flat_age                  824806 non-null  int64         \n",
      " 11  year                      824806 non-null  int64         \n",
      " 12  cpi                       824806 non-null  float64       \n",
      " 13  real_price                824806 non-null  float64       \n",
      " 14  mrt_count_500m            824806 non-null  int64         \n",
      " 15  schools_within_2km        824806 non-null  int64         \n",
      " 16  top25_schools_within_2km  824806 non-null  int64         \n",
      " 17  distance_to_cbd           824806 non-null  float64       \n",
      " 18  floor_category            824806 non-null  object        \n",
      " 19  region                    824742 non-null  object        \n",
      "dtypes: datetime64[ns](1), float64(5), int64(7), object(7)\n",
      "memory usage: 132.1+ MB\n"
     ]
    }
   ],
   "source": [
    "# change lease commence date to year format\n",
    "merged_df['lease_commence_date'] = pd.to_datetime(merged_df['lease_commence_date']).dt.year\n",
    "merged_df.info()"
   ]
  },
  {
   "cell_type": "code",
   "execution_count": 25,
   "metadata": {},
   "outputs": [
    {
     "data": {
      "application/vnd.microsoft.datawrangler.viewer.v0+json": {
       "columns": [
        {
         "name": "index",
         "rawType": "int64",
         "type": "integer"
        },
        {
         "name": "month",
         "rawType": "datetime64[ns]",
         "type": "datetime"
        },
        {
         "name": "town",
         "rawType": "object",
         "type": "string"
        },
        {
         "name": "flat_type",
         "rawType": "int64",
         "type": "integer"
        },
        {
         "name": "block",
         "rawType": "object",
         "type": "string"
        },
        {
         "name": "street_name",
         "rawType": "object",
         "type": "string"
        },
        {
         "name": "storey_range",
         "rawType": "object",
         "type": "string"
        },
        {
         "name": "floor_area_sqm",
         "rawType": "float64",
         "type": "float"
        },
        {
         "name": "flat_model",
         "rawType": "object",
         "type": "string"
        },
        {
         "name": "lease_commence_date",
         "rawType": "int64",
         "type": "integer"
        },
        {
         "name": "resale_price",
         "rawType": "float64",
         "type": "float"
        },
        {
         "name": "flat_age",
         "rawType": "int64",
         "type": "integer"
        },
        {
         "name": "year",
         "rawType": "int64",
         "type": "integer"
        },
        {
         "name": "cpi",
         "rawType": "float64",
         "type": "float"
        },
        {
         "name": "real_price",
         "rawType": "float64",
         "type": "float"
        },
        {
         "name": "mrt_count_500m",
         "rawType": "int64",
         "type": "integer"
        },
        {
         "name": "schools_within_2km",
         "rawType": "int64",
         "type": "integer"
        },
        {
         "name": "top25_schools_within_2km",
         "rawType": "int64",
         "type": "integer"
        },
        {
         "name": "distance_to_cbd",
         "rawType": "float64",
         "type": "float"
        },
        {
         "name": "floor_category",
         "rawType": "object",
         "type": "string"
        },
        {
         "name": "region",
         "rawType": "object",
         "type": "string"
        }
       ],
       "conversionMethod": "pd.DataFrame",
       "ref": "2b943083-e58e-4f21-af52-0df10048615e",
       "rows": [
        [
         "4",
         "1990-01-01 00:00:00",
         "ANG MO KIO",
         "1",
         "216",
         "ANG MO KIO AVE 1",
         "04 TO 06",
         "73.0",
         "New Generation",
         "1976",
         "47200.0",
         "14",
         "1990",
         "53.898",
         "87572.82273924821",
         "0",
         "10",
         "3",
         "9192.71478969994",
         "Low Floor",
         "Central"
        ],
        [
         "5",
         "1990-01-01 00:00:00",
         "ANG MO KIO",
         "1",
         "211",
         "ANG MO KIO AVE 3",
         "01 TO 03",
         "67.0",
         "New Generation",
         "1977",
         "46000.0",
         "13",
         "1990",
         "53.898",
         "85346.39504248765",
         "0",
         "11",
         "4",
         "9521.908685765602",
         "Low Floor",
         "Central"
        ],
        [
         "6",
         "1990-01-01 00:00:00",
         "ANG MO KIO",
         "1",
         "202",
         "ANG MO KIO AVE 3",
         "07 TO 09",
         "67.0",
         "New Generation",
         "1977",
         "42000.0",
         "13",
         "1990",
         "53.898",
         "77924.96938661917",
         "0",
         "11",
         "4",
         "9407.743380401133",
         "Mid Floor",
         "Central"
        ],
        [
         "7",
         "1990-01-01 00:00:00",
         "ANG MO KIO",
         "1",
         "235",
         "ANG MO KIO AVE 3",
         "10 TO 12",
         "67.0",
         "New Generation",
         "1977",
         "38000.0",
         "13",
         "1990",
         "53.898",
         "70503.54373075068",
         "0",
         "8",
         "3",
         "9344.886132964471",
         "Mid Floor",
         "Central"
        ],
        [
         "8",
         "1990-01-01 00:00:00",
         "ANG MO KIO",
         "1",
         "235",
         "ANG MO KIO AVE 3",
         "04 TO 06",
         "67.0",
         "New Generation",
         "1977",
         "40000.0",
         "13",
         "1990",
         "53.898",
         "74214.25655868492",
         "0",
         "8",
         "3",
         "9344.886132964471",
         "Low Floor",
         "Central"
        ]
       ],
       "shape": {
        "columns": 20,
        "rows": 5
       }
      },
      "text/html": [
       "<div>\n",
       "<style scoped>\n",
       "    .dataframe tbody tr th:only-of-type {\n",
       "        vertical-align: middle;\n",
       "    }\n",
       "\n",
       "    .dataframe tbody tr th {\n",
       "        vertical-align: top;\n",
       "    }\n",
       "\n",
       "    .dataframe thead th {\n",
       "        text-align: right;\n",
       "    }\n",
       "</style>\n",
       "<table border=\"1\" class=\"dataframe\">\n",
       "  <thead>\n",
       "    <tr style=\"text-align: right;\">\n",
       "      <th></th>\n",
       "      <th>month</th>\n",
       "      <th>town</th>\n",
       "      <th>flat_type</th>\n",
       "      <th>block</th>\n",
       "      <th>street_name</th>\n",
       "      <th>storey_range</th>\n",
       "      <th>floor_area_sqm</th>\n",
       "      <th>flat_model</th>\n",
       "      <th>lease_commence_date</th>\n",
       "      <th>resale_price</th>\n",
       "      <th>flat_age</th>\n",
       "      <th>year</th>\n",
       "      <th>cpi</th>\n",
       "      <th>real_price</th>\n",
       "      <th>mrt_count_500m</th>\n",
       "      <th>schools_within_2km</th>\n",
       "      <th>top25_schools_within_2km</th>\n",
       "      <th>distance_to_cbd</th>\n",
       "      <th>floor_category</th>\n",
       "      <th>region</th>\n",
       "    </tr>\n",
       "  </thead>\n",
       "  <tbody>\n",
       "    <tr>\n",
       "      <th>4</th>\n",
       "      <td>1990-01-01</td>\n",
       "      <td>ANG MO KIO</td>\n",
       "      <td>1</td>\n",
       "      <td>216</td>\n",
       "      <td>ANG MO KIO AVE 1</td>\n",
       "      <td>04 TO 06</td>\n",
       "      <td>73.0</td>\n",
       "      <td>New Generation</td>\n",
       "      <td>1976</td>\n",
       "      <td>47200.0</td>\n",
       "      <td>14</td>\n",
       "      <td>1990</td>\n",
       "      <td>53.898</td>\n",
       "      <td>87572.822739</td>\n",
       "      <td>0</td>\n",
       "      <td>10</td>\n",
       "      <td>3</td>\n",
       "      <td>9192.714790</td>\n",
       "      <td>Low Floor</td>\n",
       "      <td>Central</td>\n",
       "    </tr>\n",
       "    <tr>\n",
       "      <th>5</th>\n",
       "      <td>1990-01-01</td>\n",
       "      <td>ANG MO KIO</td>\n",
       "      <td>1</td>\n",
       "      <td>211</td>\n",
       "      <td>ANG MO KIO AVE 3</td>\n",
       "      <td>01 TO 03</td>\n",
       "      <td>67.0</td>\n",
       "      <td>New Generation</td>\n",
       "      <td>1977</td>\n",
       "      <td>46000.0</td>\n",
       "      <td>13</td>\n",
       "      <td>1990</td>\n",
       "      <td>53.898</td>\n",
       "      <td>85346.395042</td>\n",
       "      <td>0</td>\n",
       "      <td>11</td>\n",
       "      <td>4</td>\n",
       "      <td>9521.908686</td>\n",
       "      <td>Low Floor</td>\n",
       "      <td>Central</td>\n",
       "    </tr>\n",
       "    <tr>\n",
       "      <th>6</th>\n",
       "      <td>1990-01-01</td>\n",
       "      <td>ANG MO KIO</td>\n",
       "      <td>1</td>\n",
       "      <td>202</td>\n",
       "      <td>ANG MO KIO AVE 3</td>\n",
       "      <td>07 TO 09</td>\n",
       "      <td>67.0</td>\n",
       "      <td>New Generation</td>\n",
       "      <td>1977</td>\n",
       "      <td>42000.0</td>\n",
       "      <td>13</td>\n",
       "      <td>1990</td>\n",
       "      <td>53.898</td>\n",
       "      <td>77924.969387</td>\n",
       "      <td>0</td>\n",
       "      <td>11</td>\n",
       "      <td>4</td>\n",
       "      <td>9407.743380</td>\n",
       "      <td>Mid Floor</td>\n",
       "      <td>Central</td>\n",
       "    </tr>\n",
       "    <tr>\n",
       "      <th>7</th>\n",
       "      <td>1990-01-01</td>\n",
       "      <td>ANG MO KIO</td>\n",
       "      <td>1</td>\n",
       "      <td>235</td>\n",
       "      <td>ANG MO KIO AVE 3</td>\n",
       "      <td>10 TO 12</td>\n",
       "      <td>67.0</td>\n",
       "      <td>New Generation</td>\n",
       "      <td>1977</td>\n",
       "      <td>38000.0</td>\n",
       "      <td>13</td>\n",
       "      <td>1990</td>\n",
       "      <td>53.898</td>\n",
       "      <td>70503.543731</td>\n",
       "      <td>0</td>\n",
       "      <td>8</td>\n",
       "      <td>3</td>\n",
       "      <td>9344.886133</td>\n",
       "      <td>Mid Floor</td>\n",
       "      <td>Central</td>\n",
       "    </tr>\n",
       "    <tr>\n",
       "      <th>8</th>\n",
       "      <td>1990-01-01</td>\n",
       "      <td>ANG MO KIO</td>\n",
       "      <td>1</td>\n",
       "      <td>235</td>\n",
       "      <td>ANG MO KIO AVE 3</td>\n",
       "      <td>04 TO 06</td>\n",
       "      <td>67.0</td>\n",
       "      <td>New Generation</td>\n",
       "      <td>1977</td>\n",
       "      <td>40000.0</td>\n",
       "      <td>13</td>\n",
       "      <td>1990</td>\n",
       "      <td>53.898</td>\n",
       "      <td>74214.256559</td>\n",
       "      <td>0</td>\n",
       "      <td>8</td>\n",
       "      <td>3</td>\n",
       "      <td>9344.886133</td>\n",
       "      <td>Low Floor</td>\n",
       "      <td>Central</td>\n",
       "    </tr>\n",
       "  </tbody>\n",
       "</table>\n",
       "</div>"
      ],
      "text/plain": [
       "       month        town  flat_type block       street_name storey_range  \\\n",
       "4 1990-01-01  ANG MO KIO          1   216  ANG MO KIO AVE 1     04 TO 06   \n",
       "5 1990-01-01  ANG MO KIO          1   211  ANG MO KIO AVE 3     01 TO 03   \n",
       "6 1990-01-01  ANG MO KIO          1   202  ANG MO KIO AVE 3     07 TO 09   \n",
       "7 1990-01-01  ANG MO KIO          1   235  ANG MO KIO AVE 3     10 TO 12   \n",
       "8 1990-01-01  ANG MO KIO          1   235  ANG MO KIO AVE 3     04 TO 06   \n",
       "\n",
       "   floor_area_sqm      flat_model  lease_commence_date  resale_price  \\\n",
       "4            73.0  New Generation                 1976       47200.0   \n",
       "5            67.0  New Generation                 1977       46000.0   \n",
       "6            67.0  New Generation                 1977       42000.0   \n",
       "7            67.0  New Generation                 1977       38000.0   \n",
       "8            67.0  New Generation                 1977       40000.0   \n",
       "\n",
       "   flat_age  year     cpi    real_price  mrt_count_500m  schools_within_2km  \\\n",
       "4        14  1990  53.898  87572.822739               0                  10   \n",
       "5        13  1990  53.898  85346.395042               0                  11   \n",
       "6        13  1990  53.898  77924.969387               0                  11   \n",
       "7        13  1990  53.898  70503.543731               0                   8   \n",
       "8        13  1990  53.898  74214.256559               0                   8   \n",
       "\n",
       "   top25_schools_within_2km  distance_to_cbd floor_category   region  \n",
       "4                         3      9192.714790      Low Floor  Central  \n",
       "5                         4      9521.908686      Low Floor  Central  \n",
       "6                         4      9407.743380      Mid Floor  Central  \n",
       "7                         3      9344.886133      Mid Floor  Central  \n",
       "8                         3      9344.886133      Low Floor  Central  "
      ]
     },
     "execution_count": 25,
     "metadata": {},
     "output_type": "execute_result"
    }
   ],
   "source": [
    "merged_df.head()"
   ]
  },
  {
   "cell_type": "markdown",
   "metadata": {},
   "source": [
    "### 4. Drop columns not needed for modelling"
   ]
  },
  {
   "cell_type": "code",
   "execution_count": 26,
   "metadata": {},
   "outputs": [],
   "source": [
    "# Drop columns that are not needed for modeling\n",
    "columns_to_drop = ['month', 'year', 'cpi', 'resale_price', 'block', 'street_name']\n",
    "merged_df = merged_df.drop(columns=columns_to_drop)"
   ]
  },
  {
   "cell_type": "markdown",
   "metadata": {},
   "source": [
    "### 5. Remove features which are correlated to each other (i.e. check for multicollinearity)"
   ]
  },
  {
   "cell_type": "code",
   "execution_count": 27,
   "metadata": {},
   "outputs": [
    {
     "name": "stderr",
     "output_type": "stream",
     "text": [
      "C:\\Users\\nujen\\AppData\\Local\\Temp/ipykernel_15664/2814099731.py:8: UserWarning: Matplotlib is currently using module://matplotlib_inline.backend_inline, which is a non-GUI backend, so cannot show the figure.\n",
      "  fig.show()\n"
     ]
    },
    {
     "data": {
      "image/png": "[encoded data removed]",
      "text/plain": [
       "<Figure size 720x720 with 2 Axes>"
      ]
     },
     "metadata": {
      "needs_background": "light"
     },
     "output_type": "display_data"
    }
   ],
   "source": [
    "# Correlation heatmap\n",
    "fig = plt.figure(figsize=(10,10))\n",
    "ax = sns.heatmap(merged_df.select_dtypes(include=['int64','float64']).corr(), annot = True, fmt='.2g', \n",
    "    vmin=-1, vmax=1, center= 0, cmap= 'coolwarm_r', linecolor='black', linewidth=1, annot_kws={\"size\": 7})\n",
    "#ax.set_ylim(0 ,5)\n",
    "plt.xticks(rotation=45, ha='right')\n",
    "plt.title('Correlation Heatmap')\n",
    "fig.show()"
   ]
  },
  {
   "cell_type": "code",
   "execution_count": 28,
   "metadata": {},
   "outputs": [
    {
     "data": {
      "application/vnd.microsoft.datawrangler.viewer.v0+json": {
       "columns": [
        {
         "name": "index",
         "rawType": "int64",
         "type": "integer"
        },
        {
         "name": "variables",
         "rawType": "object",
         "type": "string"
        },
        {
         "name": "VIF",
         "rawType": "float64",
         "type": "float"
        },
        {
         "name": "tolerance",
         "rawType": "float64",
         "type": "float"
        },
        {
         "name": "meanVIF",
         "rawType": "float64",
         "type": "float"
        }
       ],
       "conversionMethod": "pd.DataFrame",
       "ref": "c4739351-74db-439a-b5ed-27e7709aa901",
       "rows": [
        [
         "0",
         "flat_type",
         "60.75424260686952",
         "0.016459755847354263",
         "40.77672001111575"
        ],
        [
         "1",
         "floor_area_sqm",
         "165.4024588004332",
         "0.006045859337596382",
         "40.77672001111575"
        ],
        [
         "2",
         "lease_commence_date",
         "65.07330189547866",
         "0.01536728536698828",
         "40.77672001111575"
        ],
        [
         "3",
         "flat_age",
         "5.239717329057749",
         "0.19084999002795988",
         "40.77672001111575"
        ],
        [
         "4",
         "mrt_count_500m",
         "1.5757173889741278",
         "0.6346315697201583",
         "40.77672001111575"
        ],
        [
         "5",
         "schools_within_2km",
         "11.810681589924481",
         "0.08466911857594106",
         "40.77672001111575"
        ],
        [
         "6",
         "top25_schools_within_2km",
         "2.7800314039396996",
         "0.35970816681525897",
         "40.77672001111575"
        ],
        [
         "7",
         "distance_to_cbd",
         "13.577609074248619",
         "0.07365066960843691",
         "40.77672001111575"
        ]
       ],
       "shape": {
        "columns": 4,
        "rows": 8
       }
      },
      "text/html": [
       "<div>\n",
       "<style scoped>\n",
       "    .dataframe tbody tr th:only-of-type {\n",
       "        vertical-align: middle;\n",
       "    }\n",
       "\n",
       "    .dataframe tbody tr th {\n",
       "        vertical-align: top;\n",
       "    }\n",
       "\n",
       "    .dataframe thead th {\n",
       "        text-align: right;\n",
       "    }\n",
       "</style>\n",
       "<table border=\"1\" class=\"dataframe\">\n",
       "  <thead>\n",
       "    <tr style=\"text-align: right;\">\n",
       "      <th></th>\n",
       "      <th>variables</th>\n",
       "      <th>VIF</th>\n",
       "      <th>tolerance</th>\n",
       "      <th>meanVIF</th>\n",
       "    </tr>\n",
       "  </thead>\n",
       "  <tbody>\n",
       "    <tr>\n",
       "      <th>0</th>\n",
       "      <td>flat_type</td>\n",
       "      <td>60.754243</td>\n",
       "      <td>0.016460</td>\n",
       "      <td>40.77672</td>\n",
       "    </tr>\n",
       "    <tr>\n",
       "      <th>1</th>\n",
       "      <td>floor_area_sqm</td>\n",
       "      <td>165.402459</td>\n",
       "      <td>0.006046</td>\n",
       "      <td>40.77672</td>\n",
       "    </tr>\n",
       "    <tr>\n",
       "      <th>2</th>\n",
       "      <td>lease_commence_date</td>\n",
       "      <td>65.073302</td>\n",
       "      <td>0.015367</td>\n",
       "      <td>40.77672</td>\n",
       "    </tr>\n",
       "    <tr>\n",
       "      <th>3</th>\n",
       "      <td>flat_age</td>\n",
       "      <td>5.239717</td>\n",
       "      <td>0.190850</td>\n",
       "      <td>40.77672</td>\n",
       "    </tr>\n",
       "    <tr>\n",
       "      <th>4</th>\n",
       "      <td>mrt_count_500m</td>\n",
       "      <td>1.575717</td>\n",
       "      <td>0.634632</td>\n",
       "      <td>40.77672</td>\n",
       "    </tr>\n",
       "    <tr>\n",
       "      <th>5</th>\n",
       "      <td>schools_within_2km</td>\n",
       "      <td>11.810682</td>\n",
       "      <td>0.084669</td>\n",
       "      <td>40.77672</td>\n",
       "    </tr>\n",
       "    <tr>\n",
       "      <th>6</th>\n",
       "      <td>top25_schools_within_2km</td>\n",
       "      <td>2.780031</td>\n",
       "      <td>0.359708</td>\n",
       "      <td>40.77672</td>\n",
       "    </tr>\n",
       "    <tr>\n",
       "      <th>7</th>\n",
       "      <td>distance_to_cbd</td>\n",
       "      <td>13.577609</td>\n",
       "      <td>0.073651</td>\n",
       "      <td>40.77672</td>\n",
       "    </tr>\n",
       "  </tbody>\n",
       "</table>\n",
       "</div>"
      ],
      "text/plain": [
       "                  variables         VIF  tolerance   meanVIF\n",
       "0                 flat_type   60.754243   0.016460  40.77672\n",
       "1            floor_area_sqm  165.402459   0.006046  40.77672\n",
       "2       lease_commence_date   65.073302   0.015367  40.77672\n",
       "3                  flat_age    5.239717   0.190850  40.77672\n",
       "4            mrt_count_500m    1.575717   0.634632  40.77672\n",
       "5        schools_within_2km   11.810682   0.084669  40.77672\n",
       "6  top25_schools_within_2km    2.780031   0.359708  40.77672\n",
       "7           distance_to_cbd   13.577609   0.073651  40.77672"
      ]
     },
     "execution_count": 28,
     "metadata": {},
     "output_type": "execute_result"
    }
   ],
   "source": [
    "# Import library for VIF\n",
    "from statsmodels.stats.outliers_influence import variance_inflation_factor\n",
    "\n",
    "def calc_vif(X):\n",
    "    # Calculating VIF\n",
    "    vif = pd.DataFrame()\n",
    "    vif[\"variables\"] = X.columns\n",
    "    vif[\"VIF\"] = [variance_inflation_factor(X.values, i) for i in range(X.shape[1])]\n",
    "    vif['tolerance'] = 1/vif.VIF\n",
    "    vif['meanVIF'] = vif.VIF.mean()\n",
    "\n",
    "    return(vif)\n",
    "\n",
    "calc_vif(merged_df.drop(['real_price'],axis=1).select_dtypes(include=['int64','float64']))"
   ]
  },
  {
   "cell_type": "markdown",
   "metadata": {},
   "source": [
    "As the VIF scores for flat_type, lease_commence_date anmd schools within 2km are very large, we will remove them. \n",
    "Lease commence date is also exactly correlated to flat age. \n",
    "Flat type is also correlated to floor area sqm.\n",
    "\n",
    "We will choose to keep floor area sqm and distance to CBD as we think these features are important.\n"
   ]
  },
  {
   "cell_type": "code",
   "execution_count": 29,
   "metadata": {},
   "outputs": [
    {
     "data": {
      "application/vnd.microsoft.datawrangler.viewer.v0+json": {
       "columns": [
        {
         "name": "index",
         "rawType": "int64",
         "type": "integer"
        },
        {
         "name": "variables",
         "rawType": "object",
         "type": "string"
        },
        {
         "name": "VIF",
         "rawType": "float64",
         "type": "float"
        },
        {
         "name": "tolerance",
         "rawType": "float64",
         "type": "float"
        },
        {
         "name": "meanVIF",
         "rawType": "float64",
         "type": "float"
        }
       ],
       "conversionMethod": "pd.DataFrame",
       "ref": "fdc79693-f4ae-4cb0-b2a6-97cdc530b243",
       "rows": [
        [
         "0",
         "floor_area_sqm",
         "10.23787794295778",
         "0.09767649170772341",
         "5.063124243688888"
        ],
        [
         "1",
         "flat_age",
         "3.2218360768147436",
         "0.3103820232184644",
         "5.063124243688888"
        ],
        [
         "2",
         "mrt_count_500m",
         "1.4171942812909777",
         "0.7056195563314445",
         "5.063124243688888"
        ],
        [
         "3",
         "top25_schools_within_2km",
         "1.970832241451151",
         "0.5073998582769714",
         "5.063124243688888"
        ],
        [
         "4",
         "distance_to_cbd",
         "8.46788067592979",
         "0.11809330318535671",
         "5.063124243688888"
        ]
       ],
       "shape": {
        "columns": 4,
        "rows": 5
       }
      },
      "text/html": [
       "<div>\n",
       "<style scoped>\n",
       "    .dataframe tbody tr th:only-of-type {\n",
       "        vertical-align: middle;\n",
       "    }\n",
       "\n",
       "    .dataframe tbody tr th {\n",
       "        vertical-align: top;\n",
       "    }\n",
       "\n",
       "    .dataframe thead th {\n",
       "        text-align: right;\n",
       "    }\n",
       "</style>\n",
       "<table border=\"1\" class=\"dataframe\">\n",
       "  <thead>\n",
       "    <tr style=\"text-align: right;\">\n",
       "      <th></th>\n",
       "      <th>variables</th>\n",
       "      <th>VIF</th>\n",
       "      <th>tolerance</th>\n",
       "      <th>meanVIF</th>\n",
       "    </tr>\n",
       "  </thead>\n",
       "  <tbody>\n",
       "    <tr>\n",
       "      <th>0</th>\n",
       "      <td>floor_area_sqm</td>\n",
       "      <td>10.237878</td>\n",
       "      <td>0.097676</td>\n",
       "      <td>5.063124</td>\n",
       "    </tr>\n",
       "    <tr>\n",
       "      <th>1</th>\n",
       "      <td>flat_age</td>\n",
       "      <td>3.221836</td>\n",
       "      <td>0.310382</td>\n",
       "      <td>5.063124</td>\n",
       "    </tr>\n",
       "    <tr>\n",
       "      <th>2</th>\n",
       "      <td>mrt_count_500m</td>\n",
       "      <td>1.417194</td>\n",
       "      <td>0.705620</td>\n",
       "      <td>5.063124</td>\n",
       "    </tr>\n",
       "    <tr>\n",
       "      <th>3</th>\n",
       "      <td>top25_schools_within_2km</td>\n",
       "      <td>1.970832</td>\n",
       "      <td>0.507400</td>\n",
       "      <td>5.063124</td>\n",
       "    </tr>\n",
       "    <tr>\n",
       "      <th>4</th>\n",
       "      <td>distance_to_cbd</td>\n",
       "      <td>8.467881</td>\n",
       "      <td>0.118093</td>\n",
       "      <td>5.063124</td>\n",
       "    </tr>\n",
       "  </tbody>\n",
       "</table>\n",
       "</div>"
      ],
      "text/plain": [
       "                  variables        VIF  tolerance   meanVIF\n",
       "0            floor_area_sqm  10.237878   0.097676  5.063124\n",
       "1                  flat_age   3.221836   0.310382  5.063124\n",
       "2            mrt_count_500m   1.417194   0.705620  5.063124\n",
       "3  top25_schools_within_2km   1.970832   0.507400  5.063124\n",
       "4           distance_to_cbd   8.467881   0.118093  5.063124"
      ]
     },
     "execution_count": 29,
     "metadata": {},
     "output_type": "execute_result"
    }
   ],
   "source": [
    "calc_vif(merged_df.drop(['real_price', 'schools_within_2km', 'lease_commence_date', 'flat_type'],axis=1).select_dtypes(include=['int64','float64']))"
   ]
  },
  {
   "cell_type": "markdown",
   "metadata": {},
   "source": [
    "Most of the variables now have <10 VIF scores. We will keep floor area sqm even though VIF score is high as we believe that this variable is important in predicting flat prices"
   ]
  },
  {
   "cell_type": "markdown",
   "metadata": {},
   "source": [
    "### 6. Data Transformation\n",
    "\n",
    "- Remove outlier values which fall outside 1.5*IQR values \n",
    "- Try different log transformation for real_prices values to adjust the skewness of price data. This is needed for linear regression modelling\n",
    "\n",
    "The final dataframe to be used for modelling is stored in cleaned_df."
   ]
  },
  {
   "cell_type": "code",
   "execution_count": 30,
   "metadata": {},
   "outputs": [
    {
     "name": "stderr",
     "output_type": "stream",
     "text": [
      "C:\\Users\\nujen\\AppData\\Local\\Temp/ipykernel_15664/1512560701.py:13: FutureWarning: Automatic reindexing on DataFrame vs Series comparisons is deprecated and will raise ValueError in a future version.  Do `left, right = left.align(right, axis=1, copy=False)` before e.g. `left == right`\n",
      "  outliers_iqr = ((merged_df < (Q1 - 1.5 * IQR)) | (merged_df > (Q3 + 1.5 * IQR))).any(axis=1)\n",
      "C:\\Users\\nujen\\AppData\\Local\\Temp/ipykernel_15664/1512560701.py:19: SettingWithCopyWarning: \n",
      "A value is trying to be set on a copy of a slice from a DataFrame.\n",
      "Try using .loc[row_indexer,col_indexer] = value instead\n",
      "\n",
      "See the caveats in the documentation: https://pandas.pydata.org/pandas-docs/stable/user_guide/indexing.html#returning-a-view-versus-a-copy\n",
      "  cleaned_df['real_price_log'] = np.log(cleaned_df['real_price'])\n",
      "C:\\Users\\nujen\\AppData\\Local\\Temp/ipykernel_15664/1512560701.py:22: SettingWithCopyWarning: \n",
      "A value is trying to be set on a copy of a slice from a DataFrame.\n",
      "Try using .loc[row_indexer,col_indexer] = value instead\n",
      "\n",
      "See the caveats in the documentation: https://pandas.pydata.org/pandas-docs/stable/user_guide/indexing.html#returning-a-view-versus-a-copy\n",
      "  cleaned_df['real_price_boxcox'], _ = boxcox(cleaned_df['real_price'] + 1)\n",
      "C:\\Users\\nujen\\AppData\\Local\\Temp/ipykernel_15664/1512560701.py:25: SettingWithCopyWarning: \n",
      "A value is trying to be set on a copy of a slice from a DataFrame.\n",
      "Try using .loc[row_indexer,col_indexer] = value instead\n",
      "\n",
      "See the caveats in the documentation: https://pandas.pydata.org/pandas-docs/stable/user_guide/indexing.html#returning-a-view-versus-a-copy\n",
      "  cleaned_df['real_price_yeojohnson'], _ = yeojohnson(cleaned_df['real_price'])\n"
     ]
    },
    {
     "data": {
      "image/png": "[encoded data removed]",
      "text/plain": [
       "<Figure size 864x432 with 1 Axes>"
      ]
     },
     "metadata": {
      "needs_background": "light"
     },
     "output_type": "display_data"
    }
   ],
   "source": [
    "from scipy.stats import zscore, boxcox, yeojohnson\n",
    "import numpy as np\n",
    "import seaborn as sns\n",
    "\n",
    "# Check for outliers using Z-Score\n",
    "z_scores = np.abs(zscore(merged_df.select_dtypes(include=['float64', 'int64'])))\n",
    "outliers = np.where(z_scores > 3)\n",
    "\n",
    "# Check for outliers using IQR method, we will remove outliers which fall outside 1.5*IQR\n",
    "Q1 = merged_df.quantile(0.25)\n",
    "Q3 = merged_df.quantile(0.75)\n",
    "IQR = Q3 - Q1\n",
    "outliers_iqr = ((merged_df < (Q1 - 1.5 * IQR)) | (merged_df > (Q3 + 1.5 * IQR))).any(axis=1)\n",
    "\n",
    "# Remove outliers and create a new dataframe\n",
    "cleaned_df = merged_df[~outliers_iqr]\n",
    "\n",
    "# Apply log transformation to skewed columns\n",
    "cleaned_df['real_price_log'] = np.log(cleaned_df['real_price'])\n",
    "\n",
    "# Apply Box-Cox transformation (only for positive values)\n",
    "cleaned_df['real_price_boxcox'], _ = boxcox(cleaned_df['real_price'] + 1)\n",
    "\n",
    "# Apply Yeo-Johnson transformation (handles zero and negative values)\n",
    "cleaned_df['real_price_yeojohnson'], _ = yeojohnson(cleaned_df['real_price'])\n",
    "\n",
    "# Visualize the distribution after transformation\n",
    "import matplotlib.pyplot as plt\n",
    "\n",
    "plt.figure(figsize=(12, 6))\n",
    "sns.histplot(cleaned_df['real_price'], kde=True, label='Original', color='blue')\n",
    "sns.histplot(cleaned_df['real_price_log'], kde=True, label='Log Transformed', color='green')\n",
    "sns.histplot(cleaned_df['real_price_boxcox'], kde=True, label='Box-Cox Transformed', color='orange')\n",
    "sns.histplot(cleaned_df['real_price_yeojohnson'], kde=True, label='Yeo-Johnson Transformed', color='red')\n",
    "plt.legend()\n",
    "plt.title('Distribution of Real Price Before and After Transformation')\n",
    "plt.show()"
   ]
  },
  {
   "cell_type": "markdown",
   "metadata": {},
   "source": [
    "Testing out the shapes of the different log transformations. We will proceed with Yeo Johnson transformation as the resulting real price values have a relatively normal distribution pattern"
   ]
  },
  {
   "cell_type": "code",
   "execution_count": 31,
   "metadata": {},
   "outputs": [
    {
     "data": {
      "image/png": "[encoded data removed]",
      "text/plain": [
       "<Figure size 864x432 with 1 Axes>"
      ]
     },
     "metadata": {
      "needs_background": "light"
     },
     "output_type": "display_data"
    }
   ],
   "source": [
    "plt.figure(figsize=(12, 6))\n",
    "# sns.histplot(cleaned_df['real_price'], kde=True, label='Original', color='blue')\n",
    "# sns.histplot(cleaned_df['real_price_log'], kde=True, label='Log Transformed', color='green')\n",
    "# sns.histplot(cleaned_df['real_price_boxcox'], kde=True, label='Box-Cox Transformed', color='orange')\n",
    "sns.histplot(cleaned_df['real_price_yeojohnson'], kde=True, label='Yeo-Johnson Transformed', color='red')\n",
    "plt.legend()\n",
    "plt.title('Distribution of Real Price Before and After Transformation')\n",
    "plt.show()"
   ]
  },
  {
   "cell_type": "code",
   "execution_count": 32,
   "metadata": {},
   "outputs": [
    {
     "data": {
      "application/vnd.microsoft.datawrangler.viewer.v0+json": {
       "columns": [
        {
         "name": "index",
         "rawType": "int64",
         "type": "integer"
        },
        {
         "name": "town",
         "rawType": "object",
         "type": "string"
        },
        {
         "name": "flat_type",
         "rawType": "int64",
         "type": "integer"
        },
        {
         "name": "storey_range",
         "rawType": "object",
         "type": "string"
        },
        {
         "name": "floor_area_sqm",
         "rawType": "float64",
         "type": "float"
        },
        {
         "name": "flat_model",
         "rawType": "object",
         "type": "string"
        },
        {
         "name": "lease_commence_date",
         "rawType": "int64",
         "type": "integer"
        },
        {
         "name": "flat_age",
         "rawType": "int64",
         "type": "integer"
        },
        {
         "name": "real_price",
         "rawType": "float64",
         "type": "float"
        },
        {
         "name": "mrt_count_500m",
         "rawType": "int64",
         "type": "integer"
        },
        {
         "name": "schools_within_2km",
         "rawType": "int64",
         "type": "integer"
        },
        {
         "name": "top25_schools_within_2km",
         "rawType": "int64",
         "type": "integer"
        },
        {
         "name": "distance_to_cbd",
         "rawType": "float64",
         "type": "float"
        },
        {
         "name": "floor_category",
         "rawType": "object",
         "type": "string"
        },
        {
         "name": "region",
         "rawType": "object",
         "type": "string"
        },
        {
         "name": "real_price_log",
         "rawType": "float64",
         "type": "float"
        },
        {
         "name": "real_price_boxcox",
         "rawType": "float64",
         "type": "float"
        },
        {
         "name": "real_price_yeojohnson",
         "rawType": "float64",
         "type": "float"
        }
       ],
       "conversionMethod": "pd.DataFrame",
       "ref": "f347559e-59ff-409b-9d99-c01201299cf7",
       "rows": [
        [
         "17",
         "ANG MO KIO",
         "1",
         "07 TO 09",
         "67.0",
         "New Generation",
         "1977",
         "13",
         "74214.25655868492",
         "0",
         "7",
         "2",
         "10576.480265210312",
         "Mid Floor",
         "Central",
         "11.21471154760904",
         "3231.7711822349256",
         "3231.7711822349243"
        ],
        [
         "23",
         "ANG MO KIO",
         "1",
         "04 TO 06",
         "74.0",
         "New Generation",
         "1978",
         "12",
         "68648.18731678354",
         "0",
         "7",
         "2",
         "10116.6703305445",
         "Low Floor",
         "Central",
         "11.136750006139328",
         "3063.127203164547",
         "3063.127203164549"
        ],
        [
         "48",
         "ANG MO KIO",
         "1",
         "01 TO 03",
         "83.0",
         "New Generation",
         "1979",
         "11",
         "89057.10787042191",
         "0",
         "9",
         "2",
         "9390.822948241825",
         "Low Floor",
         "Central",
         "11.397033104402995",
         "3663.2875899050905",
         "3663.2875899050887"
        ],
        [
         "49",
         "ANG MO KIO",
         "1",
         "01 TO 03",
         "67.0",
         "New Generation",
         "1979",
         "11",
         "87572.82273924821",
         "0",
         "9",
         "2",
         "9298.509738825886",
         "Low Floor",
         "Central",
         "11.380225986086614",
         "3621.2083993178308",
         "3621.208399317832"
        ],
        [
         "50",
         "ANG MO KIO",
         "1",
         "01 TO 03",
         "67.0",
         "New Generation",
         "1979",
         "11",
         "68648.18731678354",
         "0",
         "9",
         "2",
         "9298.509738825886",
         "Low Floor",
         "Central",
         "11.136750006139328",
         "3063.127203164547",
         "3063.127203164549"
        ]
       ],
       "shape": {
        "columns": 17,
        "rows": 5
       }
      },
      "text/html": [
       "<div>\n",
       "<style scoped>\n",
       "    .dataframe tbody tr th:only-of-type {\n",
       "        vertical-align: middle;\n",
       "    }\n",
       "\n",
       "    .dataframe tbody tr th {\n",
       "        vertical-align: top;\n",
       "    }\n",
       "\n",
       "    .dataframe thead th {\n",
       "        text-align: right;\n",
       "    }\n",
       "</style>\n",
       "<table border=\"1\" class=\"dataframe\">\n",
       "  <thead>\n",
       "    <tr style=\"text-align: right;\">\n",
       "      <th></th>\n",
       "      <th>town</th>\n",
       "      <th>flat_type</th>\n",
       "      <th>storey_range</th>\n",
       "      <th>floor_area_sqm</th>\n",
       "      <th>flat_model</th>\n",
       "      <th>lease_commence_date</th>\n",
       "      <th>flat_age</th>\n",
       "      <th>real_price</th>\n",
       "      <th>mrt_count_500m</th>\n",
       "      <th>schools_within_2km</th>\n",
       "      <th>top25_schools_within_2km</th>\n",
       "      <th>distance_to_cbd</th>\n",
       "      <th>floor_category</th>\n",
       "      <th>region</th>\n",
       "      <th>real_price_log</th>\n",
       "      <th>real_price_boxcox</th>\n",
       "      <th>real_price_yeojohnson</th>\n",
       "    </tr>\n",
       "  </thead>\n",
       "  <tbody>\n",
       "    <tr>\n",
       "      <th>17</th>\n",
       "      <td>ANG MO KIO</td>\n",
       "      <td>1</td>\n",
       "      <td>07 TO 09</td>\n",
       "      <td>67.0</td>\n",
       "      <td>New Generation</td>\n",
       "      <td>1977</td>\n",
       "      <td>13</td>\n",
       "      <td>74214.256559</td>\n",
       "      <td>0</td>\n",
       "      <td>7</td>\n",
       "      <td>2</td>\n",
       "      <td>10576.480265</td>\n",
       "      <td>Mid Floor</td>\n",
       "      <td>Central</td>\n",
       "      <td>11.214712</td>\n",
       "      <td>3231.771182</td>\n",
       "      <td>3231.771182</td>\n",
       "    </tr>\n",
       "    <tr>\n",
       "      <th>23</th>\n",
       "      <td>ANG MO KIO</td>\n",
       "      <td>1</td>\n",
       "      <td>04 TO 06</td>\n",
       "      <td>74.0</td>\n",
       "      <td>New Generation</td>\n",
       "      <td>1978</td>\n",
       "      <td>12</td>\n",
       "      <td>68648.187317</td>\n",
       "      <td>0</td>\n",
       "      <td>7</td>\n",
       "      <td>2</td>\n",
       "      <td>10116.670331</td>\n",
       "      <td>Low Floor</td>\n",
       "      <td>Central</td>\n",
       "      <td>11.136750</td>\n",
       "      <td>3063.127203</td>\n",
       "      <td>3063.127203</td>\n",
       "    </tr>\n",
       "    <tr>\n",
       "      <th>48</th>\n",
       "      <td>ANG MO KIO</td>\n",
       "      <td>1</td>\n",
       "      <td>01 TO 03</td>\n",
       "      <td>83.0</td>\n",
       "      <td>New Generation</td>\n",
       "      <td>1979</td>\n",
       "      <td>11</td>\n",
       "      <td>89057.107870</td>\n",
       "      <td>0</td>\n",
       "      <td>9</td>\n",
       "      <td>2</td>\n",
       "      <td>9390.822948</td>\n",
       "      <td>Low Floor</td>\n",
       "      <td>Central</td>\n",
       "      <td>11.397033</td>\n",
       "      <td>3663.287590</td>\n",
       "      <td>3663.287590</td>\n",
       "    </tr>\n",
       "    <tr>\n",
       "      <th>49</th>\n",
       "      <td>ANG MO KIO</td>\n",
       "      <td>1</td>\n",
       "      <td>01 TO 03</td>\n",
       "      <td>67.0</td>\n",
       "      <td>New Generation</td>\n",
       "      <td>1979</td>\n",
       "      <td>11</td>\n",
       "      <td>87572.822739</td>\n",
       "      <td>0</td>\n",
       "      <td>9</td>\n",
       "      <td>2</td>\n",
       "      <td>9298.509739</td>\n",
       "      <td>Low Floor</td>\n",
       "      <td>Central</td>\n",
       "      <td>11.380226</td>\n",
       "      <td>3621.208399</td>\n",
       "      <td>3621.208399</td>\n",
       "    </tr>\n",
       "    <tr>\n",
       "      <th>50</th>\n",
       "      <td>ANG MO KIO</td>\n",
       "      <td>1</td>\n",
       "      <td>01 TO 03</td>\n",
       "      <td>67.0</td>\n",
       "      <td>New Generation</td>\n",
       "      <td>1979</td>\n",
       "      <td>11</td>\n",
       "      <td>68648.187317</td>\n",
       "      <td>0</td>\n",
       "      <td>9</td>\n",
       "      <td>2</td>\n",
       "      <td>9298.509739</td>\n",
       "      <td>Low Floor</td>\n",
       "      <td>Central</td>\n",
       "      <td>11.136750</td>\n",
       "      <td>3063.127203</td>\n",
       "      <td>3063.127203</td>\n",
       "    </tr>\n",
       "  </tbody>\n",
       "</table>\n",
       "</div>"
      ],
      "text/plain": [
       "          town  flat_type storey_range  floor_area_sqm      flat_model  \\\n",
       "17  ANG MO KIO          1     07 TO 09            67.0  New Generation   \n",
       "23  ANG MO KIO          1     04 TO 06            74.0  New Generation   \n",
       "48  ANG MO KIO          1     01 TO 03            83.0  New Generation   \n",
       "49  ANG MO KIO          1     01 TO 03            67.0  New Generation   \n",
       "50  ANG MO KIO          1     01 TO 03            67.0  New Generation   \n",
       "\n",
       "    lease_commence_date  flat_age    real_price  mrt_count_500m  \\\n",
       "17                 1977        13  74214.256559               0   \n",
       "23                 1978        12  68648.187317               0   \n",
       "48                 1979        11  89057.107870               0   \n",
       "49                 1979        11  87572.822739               0   \n",
       "50                 1979        11  68648.187317               0   \n",
       "\n",
       "    schools_within_2km  top25_schools_within_2km  distance_to_cbd  \\\n",
       "17                   7                         2     10576.480265   \n",
       "23                   7                         2     10116.670331   \n",
       "48                   9                         2      9390.822948   \n",
       "49                   9                         2      9298.509739   \n",
       "50                   9                         2      9298.509739   \n",
       "\n",
       "   floor_category   region  real_price_log  real_price_boxcox  \\\n",
       "17      Mid Floor  Central       11.214712        3231.771182   \n",
       "23      Low Floor  Central       11.136750        3063.127203   \n",
       "48      Low Floor  Central       11.397033        3663.287590   \n",
       "49      Low Floor  Central       11.380226        3621.208399   \n",
       "50      Low Floor  Central       11.136750        3063.127203   \n",
       "\n",
       "    real_price_yeojohnson  \n",
       "17            3231.771182  \n",
       "23            3063.127203  \n",
       "48            3663.287590  \n",
       "49            3621.208399  \n",
       "50            3063.127203  "
      ]
     },
     "execution_count": 32,
     "metadata": {},
     "output_type": "execute_result"
    }
   ],
   "source": [
    "cleaned_df.head()"
   ]
  },
  {
   "cell_type": "markdown",
   "metadata": {},
   "source": [
    "Plot the distribution charts for each of the numerical features"
   ]
  },
  {
   "cell_type": "code",
   "execution_count": 33,
   "metadata": {},
   "outputs": [
    {
     "data": {
      "image/png": "[encoded data removed]",
      "text/plain": [
       "<Figure size 1080x720 with 12 Axes>"
      ]
     },
     "metadata": {
      "needs_background": "light"
     },
     "output_type": "display_data"
    }
   ],
   "source": [
    "import seaborn as sns\n",
    "\n",
    "import matplotlib.pyplot as plt\n",
    "\n",
    "# Select numerical columns from cleaned_df\n",
    "numerical_columns = cleaned_df.select_dtypes(include=['float64', 'int64']).columns\n",
    "\n",
    "# Plot distribution curves for each numerical column\n",
    "plt.figure(figsize=(15, 10))\n",
    "for i, col in enumerate(numerical_columns, 1):\n",
    "    plt.subplot((len(numerical_columns) + 2) // 3, 3, i)\n",
    "    sns.histplot(cleaned_df[col], kde=True, color='blue', bins=30)\n",
    "    plt.title(f'Distribution of {col}')\n",
    "    plt.xlabel(col)\n",
    "    plt.ylabel('Frequency')\n",
    "    plt.tight_layout()\n",
    "\n",
    "plt.show()"
   ]
  },
  {
   "cell_type": "markdown",
   "metadata": {},
   "source": [
    "### 7. Model Training and Evaluation"
   ]
  },
  {
   "cell_type": "markdown",
   "metadata": {},
   "source": [
    "### 7.1. Linear Regression Model"
   ]
  },
  {
   "cell_type": "code",
   "execution_count": 34,
   "metadata": {},
   "outputs": [
    {
     "name": "stderr",
     "output_type": "stream",
     "text": [
      "c:\\Users\\nujen\\anaconda3\\lib\\site-packages\\statsmodels\\tsa\\tsatools.py:142: FutureWarning: In a future version of pandas all arguments of concat except for the argument 'objs' will be keyword-only\n",
      "  x = pd.concat(x[::order], 1)\n"
     ]
    },
    {
     "name": "stdout",
     "output_type": "stream",
     "text": [
      "                              OLS Regression Results                             \n",
      "=================================================================================\n",
      "Dep. Variable:     real_price_yeojohnson   R-squared:                       0.635\n",
      "Model:                               OLS   Adj. R-squared:                  0.635\n",
      "Method:                    Least Squares   F-statistic:                 7.640e+04\n",
      "Date:                   Mon, 05 May 2025   Prob (F-statistic):               0.00\n",
      "Time:                           14:48:18   Log-Likelihood:            -6.2622e+06\n",
      "No. Observations:                 702386   AIC:                         1.252e+07\n",
      "Df Residuals:                     702369   BIC:                         1.252e+07\n",
      "Df Model:                             16                                         \n",
      "Covariance Type:               nonrobust                                         \n",
      "=============================================================================================\n",
      "                                coef    std err          t      P>|t|      [0.025      0.975]\n",
      "---------------------------------------------------------------------------------------------\n",
      "const                      1.205e+04     12.605    956.194      0.000     1.2e+04    1.21e+04\n",
      "flat_age                    724.2072      2.535    285.650      0.000     719.238     729.176\n",
      "mrt_count_500m              184.3270      2.219     83.057      0.000     179.977     188.677\n",
      "top25_schools_within_2km   -112.1512      2.428    -46.199      0.000    -116.909    -107.393\n",
      "distance_to_cbd            -160.3775      4.497    -35.665      0.000    -169.191    -151.564\n",
      "floor_area_sqm             2425.7569      2.960    819.515      0.000    2419.955    2431.558\n",
      "region_East                 -67.7231      9.307     -7.277      0.000     -85.964     -49.482\n",
      "region_North               -521.7357     13.491    -38.674      0.000    -548.177    -495.295\n",
      "region_North East           237.0754      9.405     25.207      0.000     218.641     255.509\n",
      "region_West                -608.8168     11.099    -54.851      0.000    -630.571    -587.062\n",
      "floor_category_Low Floor  -1102.3992      7.714   -142.905      0.000   -1117.519   -1087.280\n",
      "floor_category_Mid Floor   -877.1940      7.750   -113.179      0.000    -892.385    -862.003\n",
      "flat_model_Maisonette     -1399.7706     14.572    -96.059      0.000   -1428.331   -1371.210\n",
      "flat_model_Model A         -503.5269      9.126    -55.177      0.000    -521.413    -485.641\n",
      "flat_model_New Generation -1084.7604     10.583   -102.496      0.000   -1105.504   -1064.017\n",
      "flat_model_Special         1121.1433     45.508     24.636      0.000    1031.949    1210.338\n",
      "flat_model_Standard       -1096.4794      9.359   -117.160      0.000   -1114.822   -1078.136\n",
      "==============================================================================\n",
      "Omnibus:                    19184.958   Durbin-Watson:                   0.377\n",
      "Prob(Omnibus):                  0.000   Jarque-Bera (JB):            46120.127\n",
      "Skew:                          -0.093   Prob(JB):                         0.00\n",
      "Kurtosis:                       4.241   Cond. No.                         30.0\n",
      "==============================================================================\n",
      "\n",
      "Notes:\n",
      "[1] Standard Errors assume that the covariance matrix of the errors is correctly specified.\n"
     ]
    },
    {
     "data": {
      "image/png": "[encoded data removed]",
      "text/plain": [
       "<Figure size 432x360 with 1 Axes>"
      ]
     },
     "metadata": {
      "needs_background": "light"
     },
     "output_type": "display_data"
    },
    {
     "name": "stderr",
     "output_type": "stream",
     "text": [
      "c:\\Users\\nujen\\anaconda3\\lib\\site-packages\\statsmodels\\graphics\\gofplots.py:993: UserWarning: marker is redundantly defined by the 'marker' keyword argument and the fmt string \"bo\" (-> marker='o'). The keyword argument will take precedence.\n",
      "  ax.plot(x, y, fmt, **plot_style)\n"
     ]
    },
    {
     "data": {
      "text/plain": [
       "<Figure size 432x360 with 0 Axes>"
      ]
     },
     "metadata": {},
     "output_type": "display_data"
    },
    {
     "data": {
      "image/png": "[encoded data removed]",
      "text/plain": [
       "<Figure size 432x288 with 1 Axes>"
      ]
     },
     "metadata": {
      "needs_background": "light"
     },
     "output_type": "display_data"
    }
   ],
   "source": [
    "import pandas as pd\n",
    "import numpy as np\n",
    "import statsmodels.api as sm\n",
    "from sklearn.model_selection import train_test_split\n",
    "from sklearn.linear_model import LinearRegression\n",
    "from sklearn.preprocessing import StandardScaler, OneHotEncoder\n",
    "from sklearn.compose import ColumnTransformer\n",
    "from sklearn.pipeline import Pipeline\n",
    "from sklearn.metrics import mean_squared_error, r2_score\n",
    "import matplotlib.pyplot as plt\n",
    "import seaborn as sns\n",
    "\n",
    "# Step 1: Select features and target\n",
    "target_col = 'real_price_yeojohnson'\n",
    "numerical_cols = ['flat_age','mrt_count_500m', 'top25_schools_within_2km', 'distance_to_cbd', 'floor_area_sqm']\n",
    "categorical_cols = ['region', 'floor_category', 'flat_model'] # 'storey_range',\n",
    "\n",
    "df = cleaned_df[numerical_cols + categorical_cols + [target_col]].dropna()\n",
    "\n",
    "# Step 2: One-hot encode categorical variables\n",
    "df_encoded = pd.get_dummies(df, columns=categorical_cols, drop_first=True)\n",
    "\n",
    "# Step 3: Standardize numerical features\n",
    "scaler = StandardScaler()\n",
    "df_encoded[numerical_cols] = scaler.fit_transform(df_encoded[numerical_cols])\n",
    "\n",
    "# Step 4: Split into features and target\n",
    "X = df_encoded.drop(columns=target_col)\n",
    "y = df_encoded[target_col]\n",
    "X_const = sm.add_constant(X)\n",
    "\n",
    "# Step 5: Fit linear regression\n",
    "model = sm.OLS(y, X_const).fit()\n",
    "print(model.summary())\n",
    "\n",
    "# Step 6: Diagnostic plots\n",
    "residuals = model.resid\n",
    "fitted = model.fittedvalues\n",
    "\n",
    "# Plot Residuals vs Fitted\n",
    "plt.figure(figsize=(6, 5))\n",
    "sns.scatterplot(x=fitted, y=residuals, alpha=0.3)\n",
    "plt.axhline(0, linestyle='--', color='red')\n",
    "plt.title(\"Residuals vs Fitted\")\n",
    "plt.xlabel(\"Fitted Values\")\n",
    "plt.ylabel(\"Residuals\")\n",
    "plt.tight_layout()\n",
    "plt.show()\n",
    "\n",
    "# Plot Q-Q in a separate figure\n",
    "plt.figure(figsize=(6, 5))\n",
    "sm.qqplot(residuals, line='45', fit=True)\n",
    "plt.title(\"Normal Q-Q\")\n",
    "plt.tight_layout()\n",
    "plt.show()"
   ]
  },
  {
   "cell_type": "markdown",
   "metadata": {},
   "source": [
    "From the residual vs fitted and QQ plots both suggest that there is heteroscedasticity - which means that there is a non-uniform variance in residuals (i.e. actual value - predicted value). The heavy tail at the Q-Q plot suggests that there could be outliers which might be affecting the model performance.\n",
    "\n",
    "Linear regression assumes a linear relationship between the input variables and predicted values. However, variables affecting flat prices might not have a linear relationship to price. This may explain the relatively low R-squared value of 0.635, indicating that the model explains only 63.5% of the variance in flat prices. Hence, we will explore two tree-based models in the following sections, which are better suited for capturing complex, non-linear relationships."
   ]
  },
  {
   "cell_type": "code",
   "execution_count": 35,
   "metadata": {},
   "outputs": [
    {
     "data": {
      "image/png": "[encoded data removed]",
      "text/plain": [
       "<Figure size 720x432 with 1 Axes>"
      ]
     },
     "metadata": {
      "needs_background": "light"
     },
     "output_type": "display_data"
    }
   ],
   "source": [
    "import numpy as np\n",
    "import matplotlib.pyplot as plt\n",
    "\n",
    "# Extract coefficients and feature names\n",
    "coef_series = pd.Series(model.params, index=X_const.columns)\n",
    "\n",
    "# Drop the intercept (constant term)\n",
    "coef_series = coef_series.drop('const')\n",
    "\n",
    "# Take absolute values for ranking, but retain signed values for direction\n",
    "top_n = 20  # Number of top features to plot\n",
    "top_features = coef_series.abs().sort_values(ascending=False).head(top_n).index\n",
    "top_coef = coef_series.loc[top_features]\n",
    "\n",
    "# Plot horizontal bar chart\n",
    "plt.figure(figsize=(10, 6))\n",
    "top_coef.sort_values().plot(kind='barh')\n",
    "\n",
    "# Annotate axes\n",
    "plt.title(f\"Top {top_n} Predictive Features of HDB Real Price (Linear Regression)\")\n",
    "plt.xlabel(\"Regression Coefficient\")\n",
    "plt.ylabel(\"Feature (One-hot Encoded / Scaled)\")\n",
    "plt.axvline(0, color='black', linewidth=0.8)\n",
    "plt.grid(axis='x', linestyle='--', alpha=0.6)\n",
    "plt.tight_layout()\n",
    "plt.show()"
   ]
  },
  {
   "cell_type": "markdown",
   "metadata": {},
   "source": [
    "### 7.2. XGBoost model"
   ]
  },
  {
   "cell_type": "code",
   "execution_count": 36,
   "metadata": {},
   "outputs": [
    {
     "name": "stdout",
     "output_type": "stream",
     "text": [
      "Root Mean Squared Error: 1260.4126504266787\n",
      "R-squared: 0.8211653308287374\n",
      "Cross-validated R-squared scores for 5-fold: [0.19789881 0.85516683 0.68354482 0.68047914 0.26726056]\n",
      "Mean Cross-validated R-squared score: 0.5368700348415756\n"
     ]
    },
    {
     "data": {
      "image/png": "[encoded data removed]",
      "text/plain": [
       "<Figure size 432x288 with 1 Axes>"
      ]
     },
     "metadata": {
      "needs_background": "light"
     },
     "output_type": "display_data"
    }
   ],
   "source": [
    "import pandas as pd\n",
    "import numpy as np\n",
    "from sklearn.model_selection import train_test_split\n",
    "from sklearn.metrics import mean_squared_error, r2_score\n",
    "from sklearn.model_selection import cross_val_score\n",
    "import xgboost as xgb\n",
    "\n",
    "# Step 1: Select features and target\n",
    "target_col = 'real_price_yeojohnson'  \n",
    "numerical_cols = ['flat_age', 'mrt_count_500m', 'top25_schools_within_2km', 'distance_to_cbd', 'floor_area_sqm']\n",
    "categorical_cols = ['region', 'floor_category', 'flat_model']\n",
    "\n",
    "# Prepare the dataset\n",
    "df = cleaned_df[numerical_cols + categorical_cols + [target_col]].dropna()\n",
    "\n",
    "# One-hot encode categorical variables\n",
    "df_encoded = pd.get_dummies(df, columns=categorical_cols, drop_first=True)\n",
    "\n",
    "# Split into features and target\n",
    "X = df_encoded.drop(columns=target_col)\n",
    "y = df_encoded[target_col]\n",
    "\n",
    "# Split into training and testing sets\n",
    "X_train, X_test, y_train, y_test = train_test_split(X, y, test_size=0.2, random_state=42)\n",
    "\n",
    "# Step 2: Train XGBoost model\n",
    "xgb_model = xgb.XGBRegressor(\n",
    "    objective='reg:squarederror',\n",
    "    n_estimators=100,\n",
    "    learning_rate=0.1,\n",
    "    max_depth=6,\n",
    "    random_state=42\n",
    ")\n",
    "\n",
    "xgb_model.fit(X_train, y_train)\n",
    "\n",
    "# Step 3: Make predictions\n",
    "y_pred = xgb_model.predict(X_test)\n",
    "\n",
    "# Step 4: Evaluate the model\n",
    "mse = mean_squared_error(y_test, y_pred)\n",
    "r2 = r2_score(y_test, y_pred)\n",
    "\n",
    "print(f\"Root Mean Squared Error: {np.sqrt(mse)}\")\n",
    "print(f\"R-squared: {r2}\")\n",
    "\n",
    "# Step 5: K-Cross Fold Validation\n",
    "k = 5  \n",
    "cv_r2scores = cross_val_score(xgb_model, X, y, cv=k, scoring='r2')\n",
    "\n",
    "print(f\"Cross-validated R-squared scores for {k}-fold: {cv_r2scores}\")\n",
    "print(f\"Mean Cross-validated R-squared score: {np.mean(cv_r2scores)}\")\n",
    "\n",
    "# Feature importance\n",
    "import matplotlib.pyplot as plt\n",
    "xgb.plot_importance(xgb_model, importance_type='weight', max_num_features=20)\n",
    "plt.title(\"Top 20 Feature Importances\")\n",
    "plt.show()"
   ]
  },
  {
   "cell_type": "markdown",
   "metadata": {},
   "source": [
    "Root mean squared error of $1260 means that the average variance in prediction value is ~$1260. \n",
    "\n",
    "While the initial R-squared value is relatively high at 0.821, there could be overfitting issues as the k-cross fold validation showed that certain folds have very poor R-squared values (0.20, 0.27). There might be issues of data imbalance, noise, or that different regions / features might behave differently, hence making model generalisation harder.\n",
    "\n",
    "The average R-squared score for the k-cross fold validation is 0.537, which means that the model explains only ~54% of variance consistently across different subsets.\n"
   ]
  },
  {
   "cell_type": "markdown",
   "metadata": {},
   "source": [
    "### 7.3. Using Random Forest Model"
   ]
  },
  {
   "cell_type": "code",
   "execution_count": 37,
   "metadata": {},
   "outputs": [
    {
     "name": "stdout",
     "output_type": "stream",
     "text": [
      "Root Mean Squared Error: 676.1566265927926\n",
      "R-squared: 0.9485339513644542\n",
      "Cross-validated R-squared scores for 5-fold: [0.13239354 0.81976172 0.7327126  0.67921363 0.17373476]\n",
      "Mean Cross-validated R-squared score: 0.5075632503611678\n"
     ]
    },
    {
     "data": {
      "image/png": "[encoded data removed]",
      "text/plain": [
       "<Figure size 720x432 with 1 Axes>"
      ]
     },
     "metadata": {
      "needs_background": "light"
     },
     "output_type": "display_data"
    }
   ],
   "source": [
    "import pandas as pd\n",
    "import numpy as np\n",
    "from sklearn.model_selection import train_test_split\n",
    "from sklearn.ensemble import RandomForestRegressor\n",
    "from sklearn.metrics import mean_squared_error, r2_score\n",
    "import matplotlib.pyplot as plt\n",
    "\n",
    "# Select features and target\n",
    "target_col = 'real_price_yeojohnson'\n",
    "numerical_cols = ['flat_age','mrt_count_500m', 'top25_schools_within_2km', 'distance_to_cbd', 'floor_area_sqm']\n",
    "categorical_cols = ['region', 'floor_category', 'flat_model']\n",
    "\n",
    "# Prepare the dataset\n",
    "df = cleaned_df[numerical_cols + categorical_cols + [target_col]].dropna()\n",
    "\n",
    "# One-hot encode categorical variables\n",
    "df_encoded = pd.get_dummies(df, columns=categorical_cols, drop_first=True)\n",
    "\n",
    "# Split into features and target\n",
    "X = df_encoded.drop(columns=target_col)\n",
    "y = df_encoded[target_col]\n",
    "\n",
    "# Split into training and testing sets\n",
    "X_train, X_test, y_train, y_test = train_test_split(X, y, test_size=0.2, random_state=42)\n",
    "\n",
    "# Train Random Forest model\n",
    "rf_model = RandomForestRegressor(n_estimators=100, random_state=42)\n",
    "rf_model.fit(X_train, y_train)\n",
    "\n",
    "# Make predictions\n",
    "y_pred = rf_model.predict(X_test)\n",
    "\n",
    "# Evaluate the model\n",
    "mse = mean_squared_error(y_test, y_pred)\n",
    "r2 = r2_score(y_test, y_pred)\n",
    "\n",
    "print(f\"Root Mean Squared Error: {np.sqrt(mse)}\")\n",
    "print(f\"R-squared: {r2}\")\n",
    "\n",
    "# K-Cross Fold Validation\n",
    "k = 5  \n",
    "cv_r2scores = cross_val_score(rf_model, X, y, cv=k, scoring='r2')\n",
    "\n",
    "print(f\"Cross-validated R-squared scores for {k}-fold: {cv_r2scores}\")\n",
    "print(f\"Mean Cross-validated R-squared score: {np.mean(cv_r2scores)}\")\n",
    "\n",
    "# Plot feature importance\n",
    "feature_importances = pd.Series(rf_model.feature_importances_, index=X.columns)\n",
    "top_features = feature_importances.sort_values(ascending=False).head(20)\n",
    "\n",
    "plt.figure(figsize=(10, 6))\n",
    "top_features.plot(kind='barh', color='skyblue')\n",
    "plt.title(\"Top 20 Feature Importances (Random Forest)\")\n",
    "plt.xlabel(\"Feature Importance Score\")\n",
    "plt.ylabel(\"Feature\")\n",
    "plt.gca().invert_yaxis()  # Invert y-axis for better readability\n",
    "plt.tight_layout()\n",
    "plt.show()"
   ]
  },
  {
   "cell_type": "markdown",
   "metadata": {},
   "source": [
    "Root mean squared error for Random Forest is $676, which means that the average variance in prediction value is ~$676.\n",
    "\n",
    "Similar to what we saw with XGBoost, R-square value is high at ~0.949. There is likely overfitting here as well as we see that the R-square values for some folds in the k-cross fold validation having poor scores (0.13, 0.17). \n",
    "\n",
    "The average R-squared score for the k-cross fold validation is 0.507, which means that the model explains only ~51% of variance consistently across different subsets."
   ]
  },
  {
   "cell_type": "markdown",
   "metadata": {},
   "source": [
    "### 8. Future Work\n",
    "- Explore additional external datapoints (e.g. distance to parks, healthcare institutions, parks, etc)\n",
    "- Explore effect of macro-economic trends and policy changes\n",
    "- Explore different categorical encodings (e.g. different frequency encodings for flat types, flat storey levels)\n",
    "- Other possible modeling techniques which can better handle mixed data types / features"
   ]
  }
 ],
 "metadata": {
  "kernelspec": {
   "display_name": "base",
   "language": "python",
   "name": "python3"
  },
  "language_info": {
   "codemirror_mode": {
    "name": "ipython",
    "version": 3
   },
   "file_extension": ".py",
   "mimetype": "text/x-python",
   "name": "python",
   "nbconvert_exporter": "python",
   "pygments_lexer": "ipython3",
   "version": "3.9.7"
  }
 },
 "nbformat": 4,
 "nbformat_minor": 2
}
