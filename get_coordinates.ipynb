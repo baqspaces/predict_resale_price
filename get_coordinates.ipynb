{
 "cells": [
  {
   "cell_type": "markdown",
   "metadata": {},
   "source": [
    "### Get Coordinates of HDB flats, MRT locations and primary schools"
   ]
  },
  {
   "cell_type": "code",
   "execution_count": 2,
   "metadata": {},
   "outputs": [],
   "source": [
    "import pandas as pd\n",
    "import requests\n",
    "import os"
   ]
  },
  {
   "cell_type": "code",
   "execution_count": 3,
   "metadata": {},
   "outputs": [
    {
     "data": {
      "text/plain": [
       "{'found': 1,\n",
       " 'totalNumPages': 1,\n",
       " 'pageNum': 1,\n",
       " 'results': [{'SEARCHVAL': 'ACACIA BREEZE @ YISHUN',\n",
       "   'BLK_NO': '504D',\n",
       "   'ROAD_NAME': 'YISHUN STREET 51',\n",
       "   'BUILDING': 'ACACIA BREEZE @ YISHUN',\n",
       "   'ADDRESS': '504D YISHUN STREET 51 ACACIA BREEZE @ YISHUN SINGAPORE 764504',\n",
       "   'POSTAL': '764504',\n",
       "   'X': '29157.7128495453',\n",
       "   'Y': '44457.6450243499',\n",
       "   'LATITUDE': '1.41833362541375',\n",
       "   'LONGITUDE': '103.843721655882'}]}"
      ]
     },
     "execution_count": 3,
     "metadata": {},
     "output_type": "execute_result"
    }
   ],
   "source": [
    "# test API call\n",
    "import json\n",
    "add = \"504D YISHUN ST 51\"\n",
    "url= \"https://www.onemap.gov.sg/api/common/elastic/search?returnGeom=Y&getAddrDetails=Y&pageNum=1&searchVal=\"+add\n",
    "response = requests.get(url)\n",
    "data = json.loads(response.text) \n",
    "data"
   ]
  },
  {
   "cell_type": "code",
   "execution_count": 4,
   "metadata": {},
   "outputs": [
    {
     "data": {
      "text/plain": [
       "(9279, 2)"
      ]
     },
     "execution_count": 4,
     "metadata": {},
     "output_type": "execute_result"
    }
   ],
   "source": [
    "# to get distinct locations from merged_df\n",
    "merged_df = pd.read_csv('data/merged_df.csv')\n",
    "location_df = merged_df[['block', 'street_name']].drop_duplicates().reset_index(drop=True)\n",
    "location_df.shape"
   ]
  },
  {
   "cell_type": "code",
   "execution_count": 5,
   "metadata": {},
   "outputs": [],
   "source": [
    "# function to get location details from OneMap API\n",
    "def get_location_details(block, street):\n",
    "    search_val = f\"{block} {street}\"\n",
    "    url = f\"https://www.onemap.gov.sg/api/common/elastic/search?returnGeom=Y&getAddrDetails=Y&pageNum=1&searchVal={search_val}\"\n",
    "    response = requests.get(url)\n",
    "    data = json.loads(response.text)\n",
    "    \n",
    "    if data['found'] > 0:\n",
    "        result = data['results'][0]\n",
    "        return {\n",
    "            'block': block,\n",
    "            'street_name': street,\n",
    "            'Address': result['ADDRESS'],\n",
    "            'Postal': result['POSTAL'],\n",
    "            'Latitude': float(result['LATITUDE']),\n",
    "            'Longitude': float(result['LONGITUDE'])\n",
    "        }\n",
    "    return {\n",
    "        'block': block,\n",
    "        'street_name': street,\n",
    "        'Address': None,\n",
    "        'Postal': None,\n",
    "        'Latitude': None,\n",
    "        'Longitude': None\n",
    "    }"
   ]
  },
  {
   "cell_type": "code",
   "execution_count": null,
   "metadata": {},
   "outputs": [],
   "source": [
    "# create empty dataframe with desired columns\n",
    "location_details = pd.DataFrame(columns=['block', 'street_name', 'Address', 'Postal', 'Latitude', 'Longitude'])\n",
    "\n",
    "# iterate through unique locations and append to dataframe\n",
    "for idx, row in location_df.iterrows():\n",
    "    details = get_location_details(row['block'], row['street_name'])\n",
    "    # Convert the dictionary to a DataFrame row\n",
    "    new_row = pd.DataFrame([{\n",
    "        'block': row['block'],\n",
    "        'street_name': row['street_name'],\n",
    "        'Address': details['Address'],\n",
    "        'Postal': details['Postal'],\n",
    "        'Latitude': details['Latitude'],\n",
    "        'Longitude': details['Longitude']\n",
    "    }])\n",
    "    location_details = pd.concat([location_details, new_row], ignore_index=True)\n",
    "    \n",
    "    # Print progress every 10 locations\n",
    "    if idx % 10 == 0:\n",
    "        print(f\"Processed {idx} locations...\")\n",
    "\n",
    "# Display first few rows of the dataframe\n",
    "print(\"\\nFirst few rows of location details:\")\n",
    "location_details.head()"
   ]
  },
  {
   "cell_type": "code",
   "execution_count": null,
   "metadata": {},
   "outputs": [],
   "source": [
    "# save location details to csv\n",
    "location_details.to_csv('data/hdb_locations.csv', index=False)"
   ]
  },
  {
   "cell_type": "markdown",
   "metadata": {},
   "source": [
    "### Read in csv files which show locations of primary schools and MRT station locations\n",
    "\n",
    "Both are extracted from https://github.com/hxchua/datadoubleconfirm/tree/master/datasets"
   ]
  },
  {
   "cell_type": "code",
   "execution_count": 6,
   "metadata": {},
   "outputs": [],
   "source": [
    "mrt = pd.read_csv('data/mrtsg.csv')\n",
    "primary_schools = pd.read_csv('data/primaryschoolsg.csv')"
   ]
  },
  {
   "cell_type": "code",
   "execution_count": 7,
   "metadata": {},
   "outputs": [
    {
     "data": {
      "application/vnd.microsoft.datawrangler.viewer.v0+json": {
       "columns": [
        {
         "name": "index",
         "rawType": "int64",
         "type": "integer"
        },
        {
         "name": "OBJECTID",
         "rawType": "int64",
         "type": "integer"
        },
        {
         "name": "STN_NAME",
         "rawType": "object",
         "type": "string"
        },
        {
         "name": "STN_NO",
         "rawType": "object",
         "type": "string"
        },
        {
         "name": "X",
         "rawType": "float64",
         "type": "float"
        },
        {
         "name": "Y",
         "rawType": "float64",
         "type": "float"
        },
        {
         "name": "Latitude",
         "rawType": "float64",
         "type": "float"
        },
        {
         "name": "Longitude",
         "rawType": "float64",
         "type": "float"
        },
        {
         "name": "COLOR",
         "rawType": "object",
         "type": "string"
        }
       ],
       "conversionMethod": "pd.DataFrame",
       "ref": "af5f7eb1-c058-4d19-93dd-2adcdef8b237",
       "rows": [
        [
         "0",
         "12",
         "ADMIRALTY MRT STATION",
         "NS10",
         "24402.1063",
         "46918.1131",
         "1.440585001",
         "103.8009982",
         "RED"
        ],
        [
         "1",
         "16",
         "ALJUNIED MRT STATION",
         "EW9",
         "33518.6049",
         "33190.002",
         "1.316432612",
         "103.882893",
         "GREEN"
        ],
        [
         "2",
         "33",
         "ANG MO KIO MRT STATION",
         "NS16",
         "29807.2655",
         "39105.772",
         "1.369933175",
         "103.8495535",
         "RED"
        ],
        [
         "3",
         "81",
         "BAKAU LRT STATION",
         "SE3",
         "36026.0821",
         "41113.8766",
         "1.388092704",
         "103.9054179",
         "OTHERS"
        ],
        [
         "4",
         "80",
         "BANGKIT LRT STATION",
         "BP9",
         "21248.246",
         "40220.9693",
         "1.380017897",
         "103.7726667",
         "OTHERS"
        ]
       ],
       "shape": {
        "columns": 8,
        "rows": 5
       }
      },
      "text/html": [
       "<div>\n",
       "<style scoped>\n",
       "    .dataframe tbody tr th:only-of-type {\n",
       "        vertical-align: middle;\n",
       "    }\n",
       "\n",
       "    .dataframe tbody tr th {\n",
       "        vertical-align: top;\n",
       "    }\n",
       "\n",
       "    .dataframe thead th {\n",
       "        text-align: right;\n",
       "    }\n",
       "</style>\n",
       "<table border=\"1\" class=\"dataframe\">\n",
       "  <thead>\n",
       "    <tr style=\"text-align: right;\">\n",
       "      <th></th>\n",
       "      <th>OBJECTID</th>\n",
       "      <th>STN_NAME</th>\n",
       "      <th>STN_NO</th>\n",
       "      <th>X</th>\n",
       "      <th>Y</th>\n",
       "      <th>Latitude</th>\n",
       "      <th>Longitude</th>\n",
       "      <th>COLOR</th>\n",
       "    </tr>\n",
       "  </thead>\n",
       "  <tbody>\n",
       "    <tr>\n",
       "      <th>0</th>\n",
       "      <td>12</td>\n",
       "      <td>ADMIRALTY MRT STATION</td>\n",
       "      <td>NS10</td>\n",
       "      <td>24402.1063</td>\n",
       "      <td>46918.1131</td>\n",
       "      <td>1.440585</td>\n",
       "      <td>103.800998</td>\n",
       "      <td>RED</td>\n",
       "    </tr>\n",
       "    <tr>\n",
       "      <th>1</th>\n",
       "      <td>16</td>\n",
       "      <td>ALJUNIED MRT STATION</td>\n",
       "      <td>EW9</td>\n",
       "      <td>33518.6049</td>\n",
       "      <td>33190.0020</td>\n",
       "      <td>1.316433</td>\n",
       "      <td>103.882893</td>\n",
       "      <td>GREEN</td>\n",
       "    </tr>\n",
       "    <tr>\n",
       "      <th>2</th>\n",
       "      <td>33</td>\n",
       "      <td>ANG MO KIO MRT STATION</td>\n",
       "      <td>NS16</td>\n",
       "      <td>29807.2655</td>\n",
       "      <td>39105.7720</td>\n",
       "      <td>1.369933</td>\n",
       "      <td>103.849553</td>\n",
       "      <td>RED</td>\n",
       "    </tr>\n",
       "    <tr>\n",
       "      <th>3</th>\n",
       "      <td>81</td>\n",
       "      <td>BAKAU LRT STATION</td>\n",
       "      <td>SE3</td>\n",
       "      <td>36026.0821</td>\n",
       "      <td>41113.8766</td>\n",
       "      <td>1.388093</td>\n",
       "      <td>103.905418</td>\n",
       "      <td>OTHERS</td>\n",
       "    </tr>\n",
       "    <tr>\n",
       "      <th>4</th>\n",
       "      <td>80</td>\n",
       "      <td>BANGKIT LRT STATION</td>\n",
       "      <td>BP9</td>\n",
       "      <td>21248.2460</td>\n",
       "      <td>40220.9693</td>\n",
       "      <td>1.380018</td>\n",
       "      <td>103.772667</td>\n",
       "      <td>OTHERS</td>\n",
       "    </tr>\n",
       "  </tbody>\n",
       "</table>\n",
       "</div>"
      ],
      "text/plain": [
       "   OBJECTID                STN_NAME STN_NO           X           Y  Latitude  \\\n",
       "0        12   ADMIRALTY MRT STATION   NS10  24402.1063  46918.1131  1.440585   \n",
       "1        16    ALJUNIED MRT STATION    EW9  33518.6049  33190.0020  1.316433   \n",
       "2        33  ANG MO KIO MRT STATION   NS16  29807.2655  39105.7720  1.369933   \n",
       "3        81       BAKAU LRT STATION    SE3  36026.0821  41113.8766  1.388093   \n",
       "4        80     BANGKIT LRT STATION    BP9  21248.2460  40220.9693  1.380018   \n",
       "\n",
       "    Longitude   COLOR  \n",
       "0  103.800998     RED  \n",
       "1  103.882893   GREEN  \n",
       "2  103.849553     RED  \n",
       "3  103.905418  OTHERS  \n",
       "4  103.772667  OTHERS  "
      ]
     },
     "execution_count": 7,
     "metadata": {},
     "output_type": "execute_result"
    }
   ],
   "source": [
    "mrt.head()"
   ]
  },
  {
   "cell_type": "code",
   "execution_count": 8,
   "metadata": {},
   "outputs": [
    {
     "data": {
      "application/vnd.microsoft.datawrangler.viewer.v0+json": {
       "columns": [
        {
         "name": "index",
         "rawType": "int64",
         "type": "integer"
        },
        {
         "name": "OBJECTID",
         "rawType": "int64",
         "type": "integer"
        },
        {
         "name": "STN_NAME",
         "rawType": "object",
         "type": "string"
        },
        {
         "name": "STN_NO",
         "rawType": "object",
         "type": "string"
        },
        {
         "name": "X",
         "rawType": "float64",
         "type": "float"
        },
        {
         "name": "Y",
         "rawType": "float64",
         "type": "float"
        },
        {
         "name": "Latitude",
         "rawType": "float64",
         "type": "float"
        },
        {
         "name": "Longitude",
         "rawType": "float64",
         "type": "float"
        },
        {
         "name": "COLOR",
         "rawType": "object",
         "type": "string"
        }
       ],
       "conversionMethod": "pd.DataFrame",
       "ref": "eafcff88-bf4f-48f5-84d2-1ab6d7e06dab",
       "rows": [
        [
         "134",
         "186",
         "RAFFLES PLACE MRT STATION",
         "EW14",
         "30019.1805",
         "29617.6126",
         "1.284125611",
         "103.8514572",
         "GREEN"
        ],
        [
         "135",
         "186",
         "RAFFLES PLACE MRT STATION",
         "NS26",
         "30019.1805",
         "29617.6126",
         "1.284125611",
         "103.8514572",
         "RED"
        ]
       ],
       "shape": {
        "columns": 8,
        "rows": 2
       }
      },
      "text/html": [
       "<div>\n",
       "<style scoped>\n",
       "    .dataframe tbody tr th:only-of-type {\n",
       "        vertical-align: middle;\n",
       "    }\n",
       "\n",
       "    .dataframe tbody tr th {\n",
       "        vertical-align: top;\n",
       "    }\n",
       "\n",
       "    .dataframe thead th {\n",
       "        text-align: right;\n",
       "    }\n",
       "</style>\n",
       "<table border=\"1\" class=\"dataframe\">\n",
       "  <thead>\n",
       "    <tr style=\"text-align: right;\">\n",
       "      <th></th>\n",
       "      <th>OBJECTID</th>\n",
       "      <th>STN_NAME</th>\n",
       "      <th>STN_NO</th>\n",
       "      <th>X</th>\n",
       "      <th>Y</th>\n",
       "      <th>Latitude</th>\n",
       "      <th>Longitude</th>\n",
       "      <th>COLOR</th>\n",
       "    </tr>\n",
       "  </thead>\n",
       "  <tbody>\n",
       "    <tr>\n",
       "      <th>134</th>\n",
       "      <td>186</td>\n",
       "      <td>RAFFLES PLACE MRT STATION</td>\n",
       "      <td>EW14</td>\n",
       "      <td>30019.1805</td>\n",
       "      <td>29617.6126</td>\n",
       "      <td>1.284126</td>\n",
       "      <td>103.851457</td>\n",
       "      <td>GREEN</td>\n",
       "    </tr>\n",
       "    <tr>\n",
       "      <th>135</th>\n",
       "      <td>186</td>\n",
       "      <td>RAFFLES PLACE MRT STATION</td>\n",
       "      <td>NS26</td>\n",
       "      <td>30019.1805</td>\n",
       "      <td>29617.6126</td>\n",
       "      <td>1.284126</td>\n",
       "      <td>103.851457</td>\n",
       "      <td>RED</td>\n",
       "    </tr>\n",
       "  </tbody>\n",
       "</table>\n",
       "</div>"
      ],
      "text/plain": [
       "     OBJECTID                   STN_NAME STN_NO           X           Y  \\\n",
       "134       186  RAFFLES PLACE MRT STATION   EW14  30019.1805  29617.6126   \n",
       "135       186  RAFFLES PLACE MRT STATION   NS26  30019.1805  29617.6126   \n",
       "\n",
       "     Latitude   Longitude  COLOR  \n",
       "134  1.284126  103.851457  GREEN  \n",
       "135  1.284126  103.851457    RED  "
      ]
     },
     "execution_count": 8,
     "metadata": {},
     "output_type": "execute_result"
    }
   ],
   "source": [
    "mrt[mrt['STN_NAME'] == 'RAFFLES PLACE MRT STATION']"
   ]
  },
  {
   "cell_type": "markdown",
   "metadata": {},
   "source": [
    "#### To calculate distance between flat and nearby amenities (i.e. Primary school, MRT stations), and distance to CBD (defined by distance to Raffles Place MRT)"
   ]
  },
  {
   "cell_type": "code",
   "execution_count": 9,
   "metadata": {},
   "outputs": [],
   "source": [
    "import math\n",
    "\n",
    "def haversine_distance(lat1, lon1, lat2, lon2):\n",
    "    \"\"\"\n",
    "    Calculate the great circle distance between two points \n",
    "    on the earth (specified in decimal degrees)\n",
    "    \"\"\"\n",
    "    # Convert decimal degrees to radians\n",
    "    lat1, lon1, lat2, lon2 = map(math.radians, [lat1, lon1, lat2, lon2])\n",
    "    \n",
    "    # Haversine formula\n",
    "    dlon = lon2 - lon1\n",
    "    dlat = lat2 - lat1\n",
    "    a = math.sin(dlat/2)**2 + math.cos(lat1) * math.cos(lat2) * math.sin(dlon/2)**2\n",
    "    c = 2 * math.asin(math.sqrt(a))\n",
    "    r = 6371  # Radius of earth in kilometers\n",
    "    return c * r * 1000  # Convert to meters"
   ]
  },
  {
   "cell_type": "code",
   "execution_count": null,
   "metadata": {},
   "outputs": [],
   "source": [
    "# create a new column for MRT count in location_details\n",
    "location_details['mrt_count_500m'] = 0\n",
    "\n",
    "# iterate through each HDB location\n",
    "for idx, row in location_details.iterrows():\n",
    "    if pd.isna(row['Latitude']) or pd.isna(row['Longitude']):\n",
    "        continue\n",
    "        \n",
    "    count = 0\n",
    "    # check distance to each MRT station\n",
    "    for _, mrt_row in mrt.iterrows():\n",
    "        distance = haversine_distance(\n",
    "            row['Latitude'], \n",
    "            row['Longitude'],\n",
    "            mrt_row['Latitude'],\n",
    "            mrt_row['Longitude']\n",
    "        )\n",
    "        if distance <= 500:  # add count if within 500 meters\n",
    "            count += 1\n",
    "    \n",
    "    # store the count in the new column\n",
    "    location_details.at[idx, 'mrt_count_500m'] = count"
   ]
  },
  {
   "cell_type": "markdown",
   "metadata": {},
   "source": [
    "### Count number of schools and top 25 primary schools within 2km of HDB block"
   ]
  },
  {
   "cell_type": "code",
   "execution_count": null,
   "metadata": {},
   "outputs": [],
   "source": [
    "# create new columns for school counts\n",
    "location_details['schools_within_2km'] = 0\n",
    "location_details['top25_schools_within_2km'] = 0\n",
    "location_details['nearby_top25_schools'] = '' \n",
    "\n",
    "\n",
    "# get list of top 25 schools from primary_school dataframe\n",
    "top25_schools = primary_schools[primary_schools['top25sch'] == 1]['Name'].tolist()\n",
    "\n",
    "# iterate through each HDB location\n",
    "for idx, row in location_details.iterrows():\n",
    "    if pd.isna(row['Latitude']) or pd.isna(row['Longitude']):\n",
    "        continue\n",
    "        \n",
    "    total_count = 0\n",
    "    top25_count = 0\n",
    "    nearby_top25_list = []\n",
    "\n",
    "    \n",
    "    # check distance to each school\n",
    "    for _, school_row in primary_schools.iterrows():\n",
    "        distance = haversine_distance(\n",
    "            row['Latitude'], \n",
    "            row['Longitude'],\n",
    "            school_row['Latitude'],\n",
    "            school_row['Longitude']\n",
    "        )\n",
    "        \n",
    "        if distance <= 2000:  # If within 2km\n",
    "            total_count += 1\n",
    "            # check if it's a top 25 school using the top25sch column\n",
    "            if school_row['top25sch'] == 1:\n",
    "                top25_count += 1\n",
    "                nearby_top25_list.append(school_row['Name'])\n",
    "    \n",
    "    # store the counts in the new columns\n",
    "    location_details.at[idx, 'schools_within_2km'] = total_count\n",
    "    location_details.at[idx, 'top25_schools_within_2km'] = top25_count\n",
    "    location_details.at[idx, 'nearby_top25_schools'] = ', '.join(nearby_top25_list) "
   ]
  },
  {
   "cell_type": "code",
   "execution_count": 30,
   "metadata": {},
   "outputs": [],
   "source": [
    "# Raffles Place MRT coordinates\n",
    "RAFFLES_LAT = 1.284125611\n",
    "RAFFLES_LON = 103.8514572\n",
    "\n",
    "# Calculate distance to Raffles Place MRT for each HDB block\n",
    "location_details['distance_to_cbd'] = location_details.apply(\n",
    "    lambda row: haversine_distance(\n",
    "        row['Latitude'],\n",
    "        row['Longitude'],\n",
    "        RAFFLES_LAT,\n",
    "        RAFFLES_LON\n",
    "    ) if pd.notna(row['Latitude']) and pd.notna(row['Longitude']) else None,\n",
    "    axis=1\n",
    ")"
   ]
  },
  {
   "cell_type": "code",
   "execution_count": 31,
   "metadata": {},
   "outputs": [
    {
     "data": {
      "text/html": [
       "<div>\n",
       "<style scoped>\n",
       "    .dataframe tbody tr th:only-of-type {\n",
       "        vertical-align: middle;\n",
       "    }\n",
       "\n",
       "    .dataframe tbody tr th {\n",
       "        vertical-align: top;\n",
       "    }\n",
       "\n",
       "    .dataframe thead th {\n",
       "        text-align: right;\n",
       "    }\n",
       "</style>\n",
       "<table border=\"1\" class=\"dataframe\">\n",
       "  <thead>\n",
       "    <tr style=\"text-align: right;\">\n",
       "      <th></th>\n",
       "      <th>block</th>\n",
       "      <th>street_name</th>\n",
       "      <th>Address</th>\n",
       "      <th>Postal</th>\n",
       "      <th>Latitude</th>\n",
       "      <th>Longitude</th>\n",
       "      <th>mrt_count_500m</th>\n",
       "      <th>schools_within_2km</th>\n",
       "      <th>top25_schools_within_2km</th>\n",
       "      <th>nearby_top25_schools</th>\n",
       "      <th>distance_to_cbd</th>\n",
       "    </tr>\n",
       "  </thead>\n",
       "  <tbody>\n",
       "    <tr>\n",
       "      <th>0</th>\n",
       "      <td>309</td>\n",
       "      <td>ANG MO KIO AVE 1</td>\n",
       "      <td>207 ANG MO KIO AVENUE 1 ANG MO KIO 22 SINGAPOR...</td>\n",
       "      <td>560207</td>\n",
       "      <td>1.365821</td>\n",
       "      <td>103.842848</td>\n",
       "      <td>0</td>\n",
       "      <td>10</td>\n",
       "      <td>4</td>\n",
       "      <td>Ai Tong School, Catholic High School (Primary)...</td>\n",
       "      <td>9134.378661</td>\n",
       "    </tr>\n",
       "    <tr>\n",
       "      <th>1</th>\n",
       "      <td>216</td>\n",
       "      <td>ANG MO KIO AVE 1</td>\n",
       "      <td>216 ANG MO KIO AVENUE 1 ANG MO KIO 22 SINGAPOR...</td>\n",
       "      <td>560216</td>\n",
       "      <td>1.366197</td>\n",
       "      <td>103.841505</td>\n",
       "      <td>0</td>\n",
       "      <td>10</td>\n",
       "      <td>3</td>\n",
       "      <td>Ai Tong School, Catholic High School (Primary)...</td>\n",
       "      <td>9192.714790</td>\n",
       "    </tr>\n",
       "    <tr>\n",
       "      <th>2</th>\n",
       "      <td>211</td>\n",
       "      <td>ANG MO KIO AVE 3</td>\n",
       "      <td>211 ANG MO KIO AVENUE 3 SINGAPORE 560211</td>\n",
       "      <td>560211</td>\n",
       "      <td>1.369197</td>\n",
       "      <td>103.841667</td>\n",
       "      <td>0</td>\n",
       "      <td>11</td>\n",
       "      <td>4</td>\n",
       "      <td>Ai Tong School, Catholic High School (Primary)...</td>\n",
       "      <td>9521.908686</td>\n",
       "    </tr>\n",
       "    <tr>\n",
       "      <th>3</th>\n",
       "      <td>202</td>\n",
       "      <td>ANG MO KIO AVE 3</td>\n",
       "      <td>202 ANG MO KIO AVENUE 3 ANG MO KIO VIEW SINGAP...</td>\n",
       "      <td>560202</td>\n",
       "      <td>1.368446</td>\n",
       "      <td>103.844516</td>\n",
       "      <td>0</td>\n",
       "      <td>11</td>\n",
       "      <td>4</td>\n",
       "      <td>Ai Tong School, Catholic High School (Primary)...</td>\n",
       "      <td>9407.743380</td>\n",
       "    </tr>\n",
       "    <tr>\n",
       "      <th>4</th>\n",
       "      <td>235</td>\n",
       "      <td>ANG MO KIO AVE 3</td>\n",
       "      <td>235 ANG MO KIO AVENUE 3 KEBUN BARU PALM VIEW S...</td>\n",
       "      <td>560235</td>\n",
       "      <td>1.366824</td>\n",
       "      <td>103.836491</td>\n",
       "      <td>0</td>\n",
       "      <td>8</td>\n",
       "      <td>3</td>\n",
       "      <td>Ai Tong School, Catholic High School (Primary)...</td>\n",
       "      <td>9344.886133</td>\n",
       "    </tr>\n",
       "  </tbody>\n",
       "</table>\n",
       "</div>"
      ],
      "text/plain": [
       "  block       street_name                                            Address  \\\n",
       "0   309  ANG MO KIO AVE 1  207 ANG MO KIO AVENUE 1 ANG MO KIO 22 SINGAPOR...   \n",
       "1   216  ANG MO KIO AVE 1  216 ANG MO KIO AVENUE 1 ANG MO KIO 22 SINGAPOR...   \n",
       "2   211  ANG MO KIO AVE 3           211 ANG MO KIO AVENUE 3 SINGAPORE 560211   \n",
       "3   202  ANG MO KIO AVE 3  202 ANG MO KIO AVENUE 3 ANG MO KIO VIEW SINGAP...   \n",
       "4   235  ANG MO KIO AVE 3  235 ANG MO KIO AVENUE 3 KEBUN BARU PALM VIEW S...   \n",
       "\n",
       "   Postal  Latitude   Longitude  mrt_count_500m  schools_within_2km  \\\n",
       "0  560207  1.365821  103.842848               0                  10   \n",
       "1  560216  1.366197  103.841505               0                  10   \n",
       "2  560211  1.369197  103.841667               0                  11   \n",
       "3  560202  1.368446  103.844516               0                  11   \n",
       "4  560235  1.366824  103.836491               0                   8   \n",
       "\n",
       "   top25_schools_within_2km  \\\n",
       "0                         4   \n",
       "1                         3   \n",
       "2                         4   \n",
       "3                         4   \n",
       "4                         3   \n",
       "\n",
       "                                nearby_top25_schools  distance_to_cbd  \n",
       "0  Ai Tong School, Catholic High School (Primary)...      9134.378661  \n",
       "1  Ai Tong School, Catholic High School (Primary)...      9192.714790  \n",
       "2  Ai Tong School, Catholic High School (Primary)...      9521.908686  \n",
       "3  Ai Tong School, Catholic High School (Primary)...      9407.743380  \n",
       "4  Ai Tong School, Catholic High School (Primary)...      9344.886133  "
      ]
     },
     "execution_count": 31,
     "metadata": {},
     "output_type": "execute_result"
    }
   ],
   "source": [
    "location_details.head()"
   ]
  },
  {
   "cell_type": "code",
   "execution_count": null,
   "metadata": {},
   "outputs": [],
   "source": [
    "# save the updated location details to csv file\n",
    "location_details.to_csv('data/location_details.csv', index=False)"
   ]
  }
 ],
 "metadata": {
  "kernelspec": {
   "display_name": "base",
   "language": "python",
   "name": "python3"
  },
  "language_info": {
   "codemirror_mode": {
    "name": "ipython",
    "version": 3
   },
   "file_extension": ".py",
   "mimetype": "text/x-python",
   "name": "python",
   "nbconvert_exporter": "python",
   "pygments_lexer": "ipython3",
   "version": "3.9.7"
  }
 },
 "nbformat": 4,
 "nbformat_minor": 2
}
